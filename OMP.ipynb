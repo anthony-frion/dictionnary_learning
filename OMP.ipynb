{
 "cells": [
  {
   "cell_type": "code",
   "execution_count": 83,
   "metadata": {},
   "outputs": [],
   "source": [
    "using LinearAlgebra\n",
    "using Random"
   ]
  },
  {
   "cell_type": "code",
   "execution_count": 84,
   "metadata": {},
   "outputs": [],
   "source": [
    "using Plots"
   ]
  },
  {
   "cell_type": "code",
   "execution_count": 85,
   "metadata": {},
   "outputs": [],
   "source": [
    "#using Pkg\n",
    "#Pkg.add(\"CSV\")"
   ]
  },
  {
   "cell_type": "code",
   "execution_count": 86,
   "metadata": {},
   "outputs": [],
   "source": [
    "#Pkg.add(\"DataFrames\")\n",
    "#Pkg.add(\"ImageView\")"
   ]
  },
  {
   "cell_type": "code",
   "execution_count": 87,
   "metadata": {},
   "outputs": [],
   "source": [
    "using Colors"
   ]
  },
  {
   "cell_type": "code",
   "execution_count": 88,
   "metadata": {},
   "outputs": [],
   "source": [
    "using ImageView"
   ]
  },
  {
   "cell_type": "code",
   "execution_count": 89,
   "metadata": {},
   "outputs": [],
   "source": [
    "using CSV"
   ]
  },
  {
   "cell_type": "code",
   "execution_count": 90,
   "metadata": {},
   "outputs": [],
   "source": [
    "using DataFrames"
   ]
  },
  {
   "cell_type": "code",
   "execution_count": 91,
   "metadata": {},
   "outputs": [
    {
     "data": {
      "text/plain": [
       "OMP (generic function with 1 method)"
      ]
     },
     "execution_count": 91,
     "metadata": {},
     "output_type": "execute_result"
    }
   ],
   "source": [
    "function OMP(b, A, sparsity_level)\n",
    "    # Orthogonal Matching Pursuit algorithm\n",
    "    #Input : \n",
    "    # b vector to be compressed of size m*1\n",
    "    # A : dictionary size m*N with m < N\n",
    "    # sparsity level : number of non zeros coeeficients in the output vector\n",
    "    # Output : \n",
    "    # sparse vector of size N*1\n",
    "    res = copy(b)\n",
    "    support = []\n",
    "    x_s = 0\n",
    "    for i = 1:sparsity_level\n",
    "        support = OMP1(A, res , support)\n",
    "        res, x_s = OMP2(A, b, support)\n",
    "    end\n",
    "    x = zeros(size(A)[2])\n",
    "    x[support] = x_s\n",
    "    return x\n",
    "    \n",
    "end\n",
    "\n",
    "        \n",
    "        \n",
    "    "
   ]
  },
  {
   "cell_type": "code",
   "execution_count": 165,
   "metadata": {},
   "outputs": [
    {
     "data": {
      "text/plain": [
       "OMP2 (generic function with 1 method)"
      ]
     },
     "execution_count": 165,
     "metadata": {},
     "output_type": "execute_result"
    }
   ],
   "source": [
    "function OMP2(A, b, support)\n",
    "    # Input\n",
    "    # A, b : same as above\n",
    "    # support : indices of non-zeros coefficient\n",
    "    # Output : \n",
    "    # x_s : vectors which minimizes the reconstruction error using only basis vectors in support\n",
    "    # res : residual ie difference between the vector to be compressed and the reconstructed vector\n",
    "    # using only basis vectors in support\n",
    "    A_s = A[:, support]\n",
    "    x_s = inv(A_s'*A_s) * A_s'*b\n", # Is it the best approximation ? According to which norm ?
    "    res = b - A_s*x_s\n",
    "    return res, x_s\n",
    "end"
   ]
  },
  {
   "cell_type": "code",
   "execution_count": 181,
   "metadata": {},
   "outputs": [
    {
     "data": {
      "text/plain": [
       "OMP1 (generic function with 1 method)"
      ]
     },
     "execution_count": 181,
     "metadata": {},
     "output_type": "execute_result"
    }
   ],
   "source": [
    "function OMP1(A, r, support)\n",
    "    # Input A, support same as above\n",
    "    # r : residual\n",
    "    # add a new vector index to the support. It adds the vector which maximises the normalized dot\n",
    "    # product between it and the residual. \n",
    "    # returns the new support\n",
    "    max_val = -10^7\n",
    "    n_max = 0\n",
    "    for n in 1:size(A)[2]\n",
    "        if !(n in support)\n",
    "            an = A[:, n]\n",
    "            val = an'*r/norm(an)^2\n",
    "            if val > max_val\n",
    "                max_val = val\n",
    "                n_max = n\n",
    "            end\n",
    "        end\n",
    "    end\n",
    "    support = append!(support, n_max)\n",
    "    return support\n",
    "end      "
   ]
  },
  {
   "cell_type": "code",
   "execution_count": 167,
   "metadata": {},
   "outputs": [
    {
     "data": {
      "text/plain": [
       "generate_sparse_vector (generic function with 1 method)"
      ]
     },
     "execution_count": 167,
     "metadata": {},
     "output_type": "execute_result"
    }
   ],
   "source": [
    "function generate_sparse_vector(size, s)\n",
    "    # generate randomly a sparse vector of size s with sparsity level s. I don't use it yet but can be useful\n",
    "    v = zeros(size)\n",
    "    idxs = shuffle(Vector(1:10))[1:s]\n",
    "    v[idxs] = randn(s)\n",
    "    return v\n",
    "end\n",
    "    \n",
    "    "
   ]
  },
  {
   "cell_type": "code",
   "execution_count": 169,
   "metadata": {},
   "outputs": [
    {
     "name": "stdout",
     "output_type": "stream",
     "text": [
      "original vector\n",
      "[-0.6478098894815697, 0.41423070954904984, -1.0844301703421098, -0.39209642788181753]\n",
      "compressed sparse vector\n",
      "[0.6589802099369387, 0.0, 0.0, 0.0, 0.0, 0.0, 0.0, 0.3687925015321096, 0.0, 0.27868929915789353]\n",
      "reconstructed vector\n",
      "[-0.5346467216390184, 0.5747395553569613, -0.7005421199475208, -0.7210398185044239]"
     ]
    }
   ],
   "source": [
    "# test the OMP algorithm on one piece of synthetic data\n",
    "m = 4 # original size\n",
    "N = 10 # size of sparse vector\n",
    "s = 3 # sparsity level\n",
    "A = randn(m,N) # generate a random dictionnary\n",
    "b = randn(m) # generate randomly the vector that we want to compress\n",
    "println(\"original vector\")\n",
    "println(b)\n",
    "x_hat = OMP(b, A, s) # compressed sparse vector (10 element including 3 non-zeros)\n",
    "println(\"compressed sparse vector\")\n",
    "println(x_hat)\n",
    "println(\"reconstructed vector\")\n",
    "print(A*x_hat)"
   ]
  },
  {
   "cell_type": "code",
   "execution_count": 180,
   "metadata": {},
   "outputs": [
    {
     "data": {
      "text/plain": [
       "compression_reconstruction (generic function with 1 method)"
      ]
     },
     "execution_count": 180,
     "metadata": {},
     "output_type": "execute_result"
    }
   ],
   "source": [
    "function compression_reconstruction(b, A, s)\n",
    "    # compress the input vector b using OMP algorithm. Then reconstruct it with the dictionnary \n",
    "    # and compare with the original vector (with a l1 norm). \n",
    "    # OUT x_hat : sparse vector representing b\n",
    "    # b_hat : reconstructed vector using sparse vector x_hat\n",
    "    # error l1 norm between b_hat and b\n",
    "    x_hat = OMP(b, A, s)\n",
    "    b_hat = A*x_hat\n",
    "    error = sum(abs.(b-b_hat))/size(b)[1]\n",
    "    return x_hat, b_hat, error\n",
    "end"
   ]
  },
  {
   "cell_type": "code",
   "execution_count": 173,
   "metadata": {},
   "outputs": [
    {
     "data": {
      "text/plain": [
       "test_OMP_synthetic_data (generic function with 1 method)"
      ]
     },
     "execution_count": 173,
     "metadata": {},
     "output_type": "execute_result"
    }
   ],
   "source": [
    "function test_OMP_synthetic_data(m, N, s, nb_tests)\n",
    "    # returns the mean error between the original data generated randomly following gaussian distribution\n",
    "    # and the reconstructed vector. ie l1_norm(b-b_hat)\n",
    "    # also returns the average l1 distance between 2 randomly generated gaussian vector for comparaison\n",
    "    mean_error = 0\n",
    "    mean_error_random = 0\n",
    "    for i in 1:nb_tests\n",
    "        A = randn(m,N)\n",
    "        b = randn(m)\n",
    "        b1 = randn(m)\n",
    "        x_hat, b_hat, error = compression_reconstruction(b, A, s)\n",
    "        error_random = l1_norm(b-b1)/size(b)[1]\n",
    "        mean_error += error\n",
    "        mean_error_random += error_random\n",
    "    end\n",
    "    return mean_error/nb_tests, mean_error_random/nb_tests\n",
    "end\n",
    "\n",
    "     \n",
    "    "
   ]
  },
  {
   "cell_type": "code",
   "execution_count": 174,
   "metadata": {},
   "outputs": [
    {
     "data": {
      "text/plain": [
       "(0.34976707064860285, 1.3907651362021736)"
      ]
     },
     "execution_count": 174,
     "metadata": {},
     "output_type": "execute_result"
    }
   ],
   "source": [
    "test_OMP_synthetic_data(m, N, s, 10)"
   ]
  },
  {
   "cell_type": "code",
   "execution_count": 175,
   "metadata": {},
   "outputs": [
    {
     "data": {
      "text/plain": [
       "10000×785 Array{Int64,2}:\n",
       " 7  0  0  0  0  0  0  0  0  0  0  0  0  …  0  0  0  0  0  0  0  0  0  0  0  0\n",
       " 2  0  0  0  0  0  0  0  0  0  0  0  0     0  0  0  0  0  0  0  0  0  0  0  0\n",
       " 1  0  0  0  0  0  0  0  0  0  0  0  0     0  0  0  0  0  0  0  0  0  0  0  0\n",
       " 0  0  0  0  0  0  0  0  0  0  0  0  0     0  0  0  0  0  0  0  0  0  0  0  0\n",
       " 4  0  0  0  0  0  0  0  0  0  0  0  0     0  0  0  0  0  0  0  0  0  0  0  0\n",
       " 1  0  0  0  0  0  0  0  0  0  0  0  0  …  0  0  0  0  0  0  0  0  0  0  0  0\n",
       " 4  0  0  0  0  0  0  0  0  0  0  0  0     0  0  0  0  0  0  0  0  0  0  0  0\n",
       " 9  0  0  0  0  0  0  0  0  0  0  0  0     0  0  0  0  0  0  0  0  0  0  0  0\n",
       " 5  0  0  0  0  0  0  0  0  0  0  0  0     0  0  0  0  0  0  0  0  0  0  0  0\n",
       " 9  0  0  0  0  0  0  0  0  0  0  0  0     0  0  0  0  0  0  0  0  0  0  0  0\n",
       " 0  0  0  0  0  0  0  0  0  0  0  0  0  …  0  0  0  0  0  0  0  0  0  0  0  0\n",
       " 6  0  0  0  0  0  0  0  0  0  0  0  0     0  0  0  0  0  0  0  0  0  0  0  0\n",
       " 9  0  0  0  0  0  0  0  0  0  0  0  0     0  0  0  0  0  0  0  0  0  0  0  0\n",
       " ⋮              ⋮              ⋮        ⋱        ⋮              ⋮           \n",
       " 5  0  0  0  0  0  0  0  0  0  0  0  0     0  0  0  0  0  0  0  0  0  0  0  0\n",
       " 6  0  0  0  0  0  0  0  0  0  0  0  0     0  0  0  0  0  0  0  0  0  0  0  0\n",
       " 7  0  0  0  0  0  0  0  0  0  0  0  0  …  0  0  0  0  0  0  0  0  0  0  0  0\n",
       " 8  0  0  0  0  0  0  0  0  0  0  0  0     0  0  0  0  0  0  0  0  0  0  0  0\n",
       " 9  0  0  0  0  0  0  0  0  0  0  0  0     0  0  0  0  0  0  0  0  0  0  0  0\n",
       " 0  0  0  0  0  0  0  0  0  0  0  0  0     0  0  0  0  0  0  0  0  0  0  0  0\n",
       " 1  0  0  0  0  0  0  0  0  0  0  0  0     0  0  0  0  0  0  0  0  0  0  0  0\n",
       " 2  0  0  0  0  0  0  0  0  0  0  0  0  …  0  0  0  0  0  0  0  0  0  0  0  0\n",
       " 3  0  0  0  0  0  0  0  0  0  0  0  0     0  0  0  0  0  0  0  0  0  0  0  0\n",
       " 4  0  0  0  0  0  0  0  0  0  0  0  0     0  0  0  0  0  0  0  0  0  0  0  0\n",
       " 5  0  0  0  0  0  0  0  0  0  0  0  0     0  0  0  0  0  0  0  0  0  0  0  0\n",
       " 6  0  0  0  0  0  0  0  0  0  0  0  0     0  0  0  0  0  0  0  0  0  0  0  0"
      ]
     },
     "execution_count": 175,
     "metadata": {},
     "output_type": "execute_result"
    }
   ],
   "source": [
    "df = DataFrame(CSV.File(\"mnist_test.csv\")) # load the mnist data base\n",
    "df=convert(Matrix,df)"
   ]
  },
  {
   "cell_type": "code",
   "execution_count": 177,
   "metadata": {},
   "outputs": [
    {
     "data": {
      "text/plain": [
       "784-element Array{Int64,1}:\n",
       " 0\n",
       " 0\n",
       " 0\n",
       " 0\n",
       " 0\n",
       " 0\n",
       " 0\n",
       " 0\n",
       " 0\n",
       " 0\n",
       " 0\n",
       " 0\n",
       " 0\n",
       " ⋮\n",
       " 0\n",
       " 0\n",
       " 0\n",
       " 0\n",
       " 0\n",
       " 0\n",
       " 0\n",
       " 0\n",
       " 0\n",
       " 0\n",
       " 0\n",
       " 0"
      ]
     },
     "execution_count": 177,
     "metadata": {},
     "output_type": "execute_result"
    }
   ],
   "source": [
    "dig = df[5, :] # 5 th digits of the data base\n",
    "dig = dig[2:size(dig)[1]] # we don't care about the label (first element of the vector)"
   ]
  },
  {
   "cell_type": "code",
   "execution_count": 178,
   "metadata": {},
   "outputs": [
    {
     "name": "stderr",
     "output_type": "stream",
     "text": [
      "┌ Warning: Message queue is full. Ordering may be incorrect. Channel size can be increased by setting `ENV[\"REACTIVE_CHANNEL_SIZE\"] = ...` before `using Reactive`.\n",
      "└ @ Reactive C:\\Users\\thiba\\.julia\\packages\\Reactive\\g1LZ6\\src\\core.jl:274\n"
     ]
    },
    {
     "data": {
      "image/png": "iVBORw0KGgoAAAANSUhEUgAAAHAAAABwCAAAAADji6uXAAAABGdBTUEAALGPC/xhBQAAACBjSFJNAAB6JgAAgIQAAPoAAACA6AAAdTAAAOpgAAA6mAAAF3CculE8AAAAAmJLR0QA/4ePzL8AAAGVSURBVGje7dixS1ZRHMbxjyIoOggSLiIJbpEOTgVCuCgFumQtTS39Ey6C1GDgqKM01SBtrdHgVlCQEEH6F0QEBgmhNpxXTL28va+C93j4feEu557Dw8Nzn3vPPQRBEARBEARB/XScZ1E/urGL322u7bxsh+ULtpXhPB7gFobwCdtYxJdcHZYv2NXKpDEs4B56G2OvGuP3pQfhYa4Oyxds2sMuTOEl+vANa1ht3B/AG4xjEh9zdFi+YGUPJzAj9e629L68i/en5v3AipTxqMiwJsHKDF9LexZYxjP8uqoOyxeszHCkJIchGIL5C7a0L23GTXzHRq4Oyxe8cIajOMzZYfmCF8pwENdxDS+wI/2sHKIHj6W97GydDssXbPusbQRPpP7NO9vBjn/Gfkr//m/rdFi+YMs9HJDOah5Jvfsfe1hyMr9aHJYvWNnDaczhg5TdHO7gAPv4ii1sSp1bl86+x/A5N4flC1ZmOIznuNG4jia+w1Nnu5W1w/IFm34P+xyfcZO+b3+umsPyBYMgCIIgCIIgB/4CN881RJ/+iwIAAAAASUVORK5CYII=",
      "text/plain": [
       "28×28 Array{Gray{Float64},2} with eltype Gray{Float64}:\n",
       " Gray{Float64}(0.0)  Gray{Float64}(0.0)  …  Gray{Float64}(0.0)\n",
       " Gray{Float64}(0.0)  Gray{Float64}(0.0)     Gray{Float64}(0.0)\n",
       " Gray{Float64}(0.0)  Gray{Float64}(0.0)     Gray{Float64}(0.0)\n",
       " Gray{Float64}(0.0)  Gray{Float64}(0.0)     Gray{Float64}(0.0)\n",
       " Gray{Float64}(0.0)  Gray{Float64}(0.0)     Gray{Float64}(0.0)\n",
       " Gray{Float64}(0.0)  Gray{Float64}(0.0)  …  Gray{Float64}(0.0)\n",
       " Gray{Float64}(0.0)  Gray{Float64}(0.0)     Gray{Float64}(0.0)\n",
       " Gray{Float64}(0.0)  Gray{Float64}(0.0)     Gray{Float64}(0.0)\n",
       " Gray{Float64}(0.0)  Gray{Float64}(0.0)     Gray{Float64}(0.0)\n",
       " Gray{Float64}(0.0)  Gray{Float64}(0.0)     Gray{Float64}(0.0)\n",
       " Gray{Float64}(0.0)  Gray{Float64}(0.0)  …  Gray{Float64}(0.0)\n",
       " Gray{Float64}(0.0)  Gray{Float64}(0.0)     Gray{Float64}(0.0)\n",
       " Gray{Float64}(0.0)  Gray{Float64}(0.0)     Gray{Float64}(0.0)\n",
       " ⋮                                       ⋱  \n",
       " Gray{Float64}(0.0)  Gray{Float64}(0.0)     Gray{Float64}(0.0)\n",
       " Gray{Float64}(0.0)  Gray{Float64}(0.0)     Gray{Float64}(0.0)\n",
       " Gray{Float64}(0.0)  Gray{Float64}(0.0)     Gray{Float64}(0.0)\n",
       " Gray{Float64}(0.0)  Gray{Float64}(0.0)     Gray{Float64}(0.0)\n",
       " Gray{Float64}(0.0)  Gray{Float64}(0.0)  …  Gray{Float64}(0.0)\n",
       " Gray{Float64}(0.0)  Gray{Float64}(0.0)     Gray{Float64}(0.0)\n",
       " Gray{Float64}(0.0)  Gray{Float64}(0.0)     Gray{Float64}(0.0)\n",
       " Gray{Float64}(0.0)  Gray{Float64}(0.0)     Gray{Float64}(0.0)\n",
       " Gray{Float64}(0.0)  Gray{Float64}(0.0)     Gray{Float64}(0.0)\n",
       " Gray{Float64}(0.0)  Gray{Float64}(0.0)  …  Gray{Float64}(0.0)\n",
       " Gray{Float64}(0.0)  Gray{Float64}(0.0)     Gray{Float64}(0.0)\n",
       " Gray{Float64}(0.0)  Gray{Float64}(0.0)     Gray{Float64}(0.0)"
      ]
     },
     "execution_count": 178,
     "metadata": {},
     "output_type": "execute_result"
    }
   ],
   "source": [
    "dig_reshaped = reshape(dig, (28, 28))\n",
    "imshow(dig_reshaped)\n",
    "Gray.(dig_reshaped/255)"
   ]
  },
  {
   "cell_type": "code",
   "execution_count": 74,
   "metadata": {},
   "outputs": [
    {
     "data": {
      "text/plain": [
       "784×2000 Array{Float64,2}:\n",
       " -1.40636   -0.558037    0.517354   …   0.77156     -0.172167   0.275908\n",
       " -0.950536   0.584078   -0.754432      -0.672953     0.662488   0.0274519\n",
       "  0.679675  -0.147133    0.210205      -0.0763733   -0.129721   0.975733\n",
       "  1.70096   -2.05043     0.67195       -0.0267795   -0.437628  -1.45535\n",
       "  0.514677   0.484657    1.46598       -1.05224      1.11958    0.237761\n",
       "  0.636701  -0.305623    2.02647    …  -1.4541       0.176679   0.42082\n",
       "  0.794433   0.0520044   0.590096      -0.706361    -0.863142   0.39417\n",
       "  0.429305  -0.394139    0.319669      -0.88635     -1.11433    3.26839\n",
       "  0.147213   0.307389    0.69232        0.970313    -0.515339  -0.10195\n",
       " -1.02661   -1.42984     0.072331       1.04177      0.471902   0.379115\n",
       "  1.41711   -0.577356   -0.848623   …   0.33009     -0.242478   0.0825684\n",
       "  1.305     -0.735109   -0.390806       0.147428    -1.10585   -0.19757\n",
       " -0.285211  -2.22535    -1.98538        1.25322     -0.176386   0.394322\n",
       "  ⋮                                 ⋱                          \n",
       "  0.521579   1.94738     0.70724       -2.96654      0.464035   0.76787\n",
       "  0.831865  -0.668352    0.178102      -0.0042378    1.0931    -0.369448\n",
       " -0.178407  -0.322971    0.832646       0.923686    -0.307446  -0.246074\n",
       "  1.62247   -0.645098    0.31757    …  -0.332863     1.17737    0.595531\n",
       "  1.04042    0.0447341   1.11624       -0.291463    -0.5405     0.446615\n",
       "  1.00828    0.679951    2.48388       -0.131276     0.622837   0.897316\n",
       "  0.3129     0.974383    0.444959       0.4614      -0.884737  -0.185201\n",
       " -1.30847    0.982112    0.0996612      0.996697    -1.96745   -0.496392\n",
       " -0.713983   0.0126879  -0.949121   …   0.00578461   0.100879  -0.616136\n",
       "  0.105507   0.65238     0.0914365     -1.10469      0.662148   1.07841\n",
       " -1.8364    -2.03819    -0.833872       0.492111    -0.704504   1.1752\n",
       "  0.24615    1.91755    -0.843018      -0.499288     0.594156  -1.91959"
      ]
     },
     "execution_count": 74,
     "metadata": {},
     "output_type": "execute_result"
    }
   ],
   "source": [
    "m = 784 # size of digit (28*28)\n",
    "N = 2000 # size of sparse vector\n",
    "A_rd = randn(m,N) # we generate a random dictionnary"
   ]
  },
  {
   "cell_type": "code",
   "execution_count": 179,
   "metadata": {},
   "outputs": [
    {
     "data": {
      "image/png": "iVBORw0KGgoAAAANSUhEUgAAAHAAAABwCAAAAADji6uXAAAABGdBTUEAALGPC/xhBQAAACBjSFJNAAB6JgAAgIQAAPoAAACA6AAAdTAAAOpgAAA6mAAAF3CculE8AAAAAmJLR0QA/4ePzL8AAAU7SURBVGje5dpPjF5VGQbw31e+YZgp1NJpSxWntpRSWtpSK3/ExFbaIgY1siCYblzgzsS4cMPWJSHRhJVGMS5cgMEVKREEjDFgolKwVlvoP4toC8xUsH9m7HRaFs+53ttpw/K75nKTyT33nHvPO+d9vuc9z/ve21uAMRzBEGZwEyZwooxNuvRYhjX4LbaVe/48Z/w4luNNjOJqzDPgo/sGeysFuzdKx1WYbvw350t7cTm/j4+Xv0nBfrYx4VfxDv6Gk5URXGhrhd032KPmylLxf+Xz5fg3Pim4DuHv+Dzewuu4DX8qky0VXBfiHNbJb+O/6GPtR8Klg8dwE14rF5/Gq6X9MeHcPfiHcOqfEg+HsQKvCF7TEoNnP8RQFVu779J2eLhS9r++8A6uxNnLPLBK8HoTI5gv2P9VeHtAuLi4zLlJfiN94Wb3XTpwg30SF5fgX6VzWMBdKfvdJ7ABz+JQ4+HVeK+0z+GYGr9ZwXtY/Xu4u40Vdt9gr3mxEOP4S6NvCN/A44Lzu+W//DKeLu2rcEb07Bu4A39Qc28IV5Tx7ru0HQyrnOJWyQ+uE20zitPlxjHB4wd4DN/EU7I/zuC5ct8WwW+pxFvquNrKCrtvsNfMJeBB3InvNvruwnp8G7+UGLtLcHq09D8ue+PpxnP34ZnG9a1trLD7BvtXC4Y3Yz9eUvMHviKxcZnE0ZfwPbVuXYcd+CP24Abh714X40c43n2XDh7DUfH5/nK+UTTOF4SPd+Mgfih65n2JtW+XCZ7ATjWXD5fz9ZKLrJE88gbRTN13aTv74SKJi4dFPz4ienJKNOXDok+Wi+48Lzx8S/j5c2wtE46Jvpkq19eq85VWVth9g/0RqYueEH1yFj8W7t0ied+Q5Aqv4yH8VGLoEeHkQXxRdM1G/KZhoMJvvcTX7rt08BhOqbXkKcktKl1S5YIzwrdpwW+r1Lq34l5sxk+EqxfmGKg06bttrbD7BvvEx6slL5xQx8Fx2ff+I3nFe6W/qmXPSD64Ab8vfXvmGKhyirelntN9lw4ew8/hqOx1pD5NNMmB0t6krqnCbqlfT0iMnWiMnSjnUcnrrxDMZ8tY9106eAxfLo3j5bxB/L1GckGid0aEn7fIu4t9Zew+2S+/I5r1Z3igzHGvYPj9Mna0jRV23+D/am2fEh+vlX1viXByQnKE6hjHlyS+7pS8/jl8TeLqq6JzP4tf4EnRqQTr7rt08Dys6tFjguGo6Mzqvf4awXAj7hedeTtelhr4FlyDH+Fbon12Sy1nt+jX6v3izEfCpe3wsMJxXPauaYmBWySfuAefkTh7Uq19JkTLTArX5qlziarezcXvlrvv0vZi6SLJLc5KfPx66btfamRjUgPYJfW2hYL9O+X57XihtKt3VtWxSfRRv40Vdt9gb27HjRJLF8s3M1NSI5tyae5X6ZwRicGT5bxC9sbt+LXUdbbhxTZW2H2DvRHx+b5GZ1XP3im5/Hx1nnGtAF/lEE3+Vc+R+uh16rxxXOJz913aDg/H5ZuZeYLXycYNw+L7M437Fgv/zqi5OarWn6tEB01fxmD3XTp4DJcIHqcandcLltX3ilXeQa1PduB5yUFOCtbXSB187lG939/Yxgq7b7DX/IZ0WF2nWSc6ZoHsc5PqeLpIYumVwr9ZwfaQEHuZfFvzf7HC7hvsnxdNslTNNYLL70r/SuHdAeHdAuHpcTWeVX38gujQY5KPvFLm2IxftbHC7hvsEXz2CiY3yZ43JbnArIv16FqJl9WeWX3L0eTz3GOF1OfWtbHC7hv8AE++PirP846JAAAAAElFTkSuQmCC",
      "text/plain": [
       "28×28 Array{Gray{Float64},2} with eltype Gray{Float64}:\n",
       " Gray{Float64}(0.0548451)   …  Gray{Float64}(0.0868068)\n",
       " Gray{Float64}(0.128699)       Gray{Float64}(-0.0768432)\n",
       " Gray{Float64}(-0.147224)      Gray{Float64}(0.223399)\n",
       " Gray{Float64}(0.186937)       Gray{Float64}(-0.157213)\n",
       " Gray{Float64}(-0.321848)      Gray{Float64}(-0.0567337)\n",
       " Gray{Float64}(-0.100091)   …  Gray{Float64}(0.2567)\n",
       " Gray{Float64}(-0.0537485)     Gray{Float64}(0.181103)\n",
       " Gray{Float64}(-0.100512)      Gray{Float64}(-0.166142)\n",
       " Gray{Float64}(0.0299839)      Gray{Float64}(0.183349)\n",
       " Gray{Float64}(0.080092)       Gray{Float64}(-0.147564)\n",
       " Gray{Float64}(0.118473)    …  Gray{Float64}(0.0320997)\n",
       " Gray{Float64}(-0.0637082)     Gray{Float64}(-0.219267)\n",
       " Gray{Float64}(0.0348018)      Gray{Float64}(-0.0813477)\n",
       " ⋮                          ⋱  \n",
       " Gray{Float64}(-0.012956)      Gray{Float64}(-0.164782)\n",
       " Gray{Float64}(-0.0562355)     Gray{Float64}(0.0184239)\n",
       " Gray{Float64}(0.0241274)      Gray{Float64}(-0.062684)\n",
       " Gray{Float64}(-0.150796)      Gray{Float64}(0.00449592)\n",
       " Gray{Float64}(-0.131976)   …  Gray{Float64}(0.0578355)\n",
       " Gray{Float64}(-0.0173133)     Gray{Float64}(-0.00444479)\n",
       " Gray{Float64}(0.0362286)      Gray{Float64}(0.126574)\n",
       " Gray{Float64}(-0.232353)      Gray{Float64}(-0.103748)\n",
       " Gray{Float64}(0.0828726)      Gray{Float64}(0.178721)\n",
       " Gray{Float64}(0.00800324)  …  Gray{Float64}(-0.0232446)\n",
       " Gray{Float64}(-0.134892)      Gray{Float64}(-0.0934896)\n",
       " Gray{Float64}(-0.0655997)     Gray{Float64}(0.165552)"
      ]
     },
     "execution_count": 179,
     "metadata": {},
     "output_type": "execute_result"
    }
   ],
   "source": [
    "# visualize b_hat for one particular example\n",
    "_, recons_digit, _ = compression_reconstruction(dig, A_rd, 150)\n",
    "recons_reshaped = reshape(recons_digit, (28, 28))\n",
    "Gray.(recons_reshaped/255)"
   ]
  },
  {
   "cell_type": "code",
   "execution_count": 146,
   "metadata": {},
   "outputs": [
    {
     "data": {
      "text/plain": [
       "error_wrt_s (generic function with 1 method)"
      ]
     },
     "execution_count": 146,
     "metadata": {},
     "output_type": "execute_result"
    }
   ],
   "source": [
    "function error_wrt_s(A, smin, smax, step)\n",
    "    # Test the OMP algorithm with different sparsity levels and plot the errr with respect to s\n",
    "    # IN A : dictionnary\n",
    "    # smin, smax, step : test value of s between smin and smax separated by step\n",
    "    s = smin\n",
    "    ss = []\n",
    "    errors = []\n",
    "    \n",
    "    while s < smax\n",
    "        println(\"s=\", s)\n",
    "        _, recons_digit, error = compression_reconstruction(dig, A, s)\n",
    "        println(\"error=\", error)\n",
    "        recons_reshaped = reshape(recons_digit, (28, 28))\n",
    "        err = sum(abs.(recons_digit-dig))/784\n",
    "        #imshow(recons_reshaped)\n",
    "        append!(errors, err)\n",
    "        append!(ss, s)\n",
    "        #a = Gray.(recons_reshaped/255)\n",
    "        s = s + step\n",
    "    end\n",
    "    plot(ss, errors)\n",
    "end"
   ]
  },
  {
   "cell_type": "code",
   "execution_count": 163,
   "metadata": {},
   "outputs": [
    {
     "name": "stdout",
     "output_type": "stream",
     "text": [
      "s=10\n",
      "error=37.47445515190963\n",
      "s=20\n",
      "error=39.311620097878304\n",
      "s=30\n",
      "error=39.472012712137854\n",
      "s=40\n",
      "error=39.67355896004293\n",
      "s=50\n",
      "error=39.33130754396248\n",
      "s=60\n",
      "error=38.71373385332846\n",
      "s=70\n",
      "error=38.11864642141603\n",
      "s=80\n",
      "error=37.457785698403335\n",
      "s=90\n",
      "error=36.84813590210062\n",
      "s=100\n",
      "error=36.27275916914816\n",
      "s=110\n",
      "error=35.725032085818924\n",
      "s=120\n",
      "error=34.92000403260697\n",
      "s=130\n",
      "error=34.0646898972573\n",
      "s=140\n",
      "error=33.59700470513106\n",
      "s=150\n",
      "error=32.94051194089749\n",
      "s=160\n",
      "error=32.13297107574289\n",
      "s=170\n",
      "error=31.566302373132118\n",
      "s=180\n",
      "error=30.384612604082\n",
      "s=190\n",
      "error=30.067150594525746\n",
      "s=200\n",
      "error=29.41572150932143\n"
     ]
    },
    {
     "data": {
      "image/svg+xml": [
       "<?xml version=\"1.0\" encoding=\"utf-8\"?>\n",
       "<svg xmlns=\"http://www.w3.org/2000/svg\" xmlns:xlink=\"http://www.w3.org/1999/xlink\" width=\"600\" height=\"400\" viewBox=\"0 0 2400 1600\">\n",
       "<defs>\n",
       "  <clipPath id=\"clip400\">\n",
       "    <rect x=\"0\" y=\"0\" width=\"2400\" height=\"1600\"/>\n",
       "  </clipPath>\n",
       "</defs>\n",
       "<path clip-path=\"url(#clip400)\" d=\"\n",
       "M0 1600 L2400 1600 L2400 0 L0 0  Z\n",
       "  \" fill=\"#ffffff\" fill-rule=\"evenodd\" fill-opacity=\"1\"/>\n",
       "<defs>\n",
       "  <clipPath id=\"clip401\">\n",
       "    <rect x=\"480\" y=\"0\" width=\"1681\" height=\"1600\"/>\n",
       "  </clipPath>\n",
       "</defs>\n",
       "<path clip-path=\"url(#clip400)\" d=\"\n",
       "M137.246 1486.45 L2352.76 1486.45 L2352.76 47.2441 L137.246 47.2441  Z\n",
       "  \" fill=\"#ffffff\" fill-rule=\"evenodd\" fill-opacity=\"1\"/>\n",
       "<defs>\n",
       "  <clipPath id=\"clip402\">\n",
       "    <rect x=\"137\" y=\"47\" width=\"2217\" height=\"1440\"/>\n",
       "  </clipPath>\n",
       "</defs>\n",
       "<polyline clip-path=\"url(#clip402)\" style=\"stroke:#000000; stroke-width:2; stroke-opacity:0.1; fill:none\" points=\"\n",
       "  639.971,1486.45 639.971,47.2441 \n",
       "  \"/>\n",
       "<polyline clip-path=\"url(#clip402)\" style=\"stroke:#000000; stroke-width:2; stroke-opacity:0.1; fill:none\" points=\"\n",
       "  1190,1486.45 1190,47.2441 \n",
       "  \"/>\n",
       "<polyline clip-path=\"url(#clip402)\" style=\"stroke:#000000; stroke-width:2; stroke-opacity:0.1; fill:none\" points=\"\n",
       "  1740.03,1486.45 1740.03,47.2441 \n",
       "  \"/>\n",
       "<polyline clip-path=\"url(#clip402)\" style=\"stroke:#000000; stroke-width:2; stroke-opacity:0.1; fill:none\" points=\"\n",
       "  2290.05,1486.45 2290.05,47.2441 \n",
       "  \"/>\n",
       "<polyline clip-path=\"url(#clip400)\" style=\"stroke:#000000; stroke-width:4; stroke-opacity:1; fill:none\" points=\"\n",
       "  137.246,1486.45 2352.76,1486.45 \n",
       "  \"/>\n",
       "<polyline clip-path=\"url(#clip400)\" style=\"stroke:#000000; stroke-width:4; stroke-opacity:1; fill:none\" points=\"\n",
       "  639.971,1486.45 639.971,1469.18 \n",
       "  \"/>\n",
       "<polyline clip-path=\"url(#clip400)\" style=\"stroke:#000000; stroke-width:4; stroke-opacity:1; fill:none\" points=\"\n",
       "  1190,1486.45 1190,1469.18 \n",
       "  \"/>\n",
       "<polyline clip-path=\"url(#clip400)\" style=\"stroke:#000000; stroke-width:4; stroke-opacity:1; fill:none\" points=\"\n",
       "  1740.03,1486.45 1740.03,1469.18 \n",
       "  \"/>\n",
       "<polyline clip-path=\"url(#clip400)\" style=\"stroke:#000000; stroke-width:4; stroke-opacity:1; fill:none\" points=\"\n",
       "  2290.05,1486.45 2290.05,1469.18 \n",
       "  \"/>\n",
       "<path clip-path=\"url(#clip400)\" d=\"M 0 0 M616.742 1512.56 L635.099 1512.56 L635.099 1516.5 L621.025 1516.5 L621.025 1524.97 Q622.043 1524.62 623.062 1524.46 Q624.08 1524.27 625.099 1524.27 Q630.886 1524.27 634.265 1527.44 Q637.645 1530.62 637.645 1536.03 Q637.645 1541.61 634.173 1544.71 Q630.701 1547.79 624.381 1547.79 Q622.205 1547.79 619.937 1547.42 Q617.691 1547.05 615.284 1546.31 L615.284 1541.61 Q617.367 1542.74 619.589 1543.3 Q621.812 1543.86 624.289 1543.86 Q628.293 1543.86 630.631 1541.75 Q632.969 1539.64 632.969 1536.03 Q632.969 1532.42 630.631 1530.31 Q628.293 1528.21 624.289 1528.21 Q622.414 1528.21 620.539 1528.62 Q618.687 1529.04 616.742 1529.92 L616.742 1512.56 Z\" fill=\"#000000\" fill-rule=\"evenodd\" fill-opacity=\"1\" /><path clip-path=\"url(#clip400)\" d=\"M 0 0 M652.714 1515.64 Q649.103 1515.64 647.275 1519.2 Q645.469 1522.75 645.469 1529.87 Q645.469 1536.98 647.275 1540.55 Q649.103 1544.09 652.714 1544.09 Q656.349 1544.09 658.154 1540.55 Q659.983 1536.98 659.983 1529.87 Q659.983 1522.75 658.154 1519.2 Q656.349 1515.64 652.714 1515.64 M652.714 1511.93 Q658.524 1511.93 661.58 1516.54 Q664.659 1521.12 664.659 1529.87 Q664.659 1538.6 661.58 1543.21 Q658.524 1547.79 652.714 1547.79 Q646.904 1547.79 643.825 1543.21 Q640.77 1538.6 640.77 1529.87 Q640.77 1521.12 643.825 1516.54 Q646.904 1511.93 652.714 1511.93 Z\" fill=\"#000000\" fill-rule=\"evenodd\" fill-opacity=\"1\" /><path clip-path=\"url(#clip400)\" d=\"M 0 0 M1153.37 1543.18 L1161.01 1543.18 L1161.01 1516.82 L1152.7 1518.49 L1152.7 1514.23 L1160.96 1512.56 L1165.64 1512.56 L1165.64 1543.18 L1173.27 1543.18 L1173.27 1547.12 L1153.37 1547.12 L1153.37 1543.18 Z\" fill=\"#000000\" fill-rule=\"evenodd\" fill-opacity=\"1\" /><path clip-path=\"url(#clip400)\" d=\"M 0 0 M1188.34 1515.64 Q1184.73 1515.64 1182.9 1519.2 Q1181.1 1522.75 1181.1 1529.87 Q1181.1 1536.98 1182.9 1540.55 Q1184.73 1544.09 1188.34 1544.09 Q1191.98 1544.09 1193.78 1540.55 Q1195.61 1536.98 1195.61 1529.87 Q1195.61 1522.75 1193.78 1519.2 Q1191.98 1515.64 1188.34 1515.64 M1188.34 1511.93 Q1194.15 1511.93 1197.21 1516.54 Q1200.29 1521.12 1200.29 1529.87 Q1200.29 1538.6 1197.21 1543.21 Q1194.15 1547.79 1188.34 1547.79 Q1182.53 1547.79 1179.45 1543.21 Q1176.4 1538.6 1176.4 1529.87 Q1176.4 1521.12 1179.45 1516.54 Q1182.53 1511.93 1188.34 1511.93 Z\" fill=\"#000000\" fill-rule=\"evenodd\" fill-opacity=\"1\" /><path clip-path=\"url(#clip400)\" d=\"M 0 0 M1215.36 1515.64 Q1211.75 1515.64 1209.92 1519.2 Q1208.11 1522.75 1208.11 1529.87 Q1208.11 1536.98 1209.92 1540.55 Q1211.75 1544.09 1215.36 1544.09 Q1218.99 1544.09 1220.8 1540.55 Q1222.63 1536.98 1222.63 1529.87 Q1222.63 1522.75 1220.8 1519.2 Q1218.99 1515.64 1215.36 1515.64 M1215.36 1511.93 Q1221.17 1511.93 1224.22 1516.54 Q1227.3 1521.12 1227.3 1529.87 Q1227.3 1538.6 1224.22 1543.21 Q1221.17 1547.79 1215.36 1547.79 Q1209.55 1547.79 1206.47 1543.21 Q1203.41 1538.6 1203.41 1529.87 Q1203.41 1521.12 1206.47 1516.54 Q1209.55 1511.93 1215.36 1511.93 Z\" fill=\"#000000\" fill-rule=\"evenodd\" fill-opacity=\"1\" /><path clip-path=\"url(#clip400)\" d=\"M 0 0 M1703.89 1543.18 L1711.53 1543.18 L1711.53 1516.82 L1703.22 1518.49 L1703.22 1514.23 L1711.48 1512.56 L1716.16 1512.56 L1716.16 1543.18 L1723.8 1543.18 L1723.8 1547.12 L1703.89 1547.12 L1703.89 1543.18 Z\" fill=\"#000000\" fill-rule=\"evenodd\" fill-opacity=\"1\" /><path clip-path=\"url(#clip400)\" d=\"M 0 0 M1728.91 1512.56 L1747.27 1512.56 L1747.27 1516.5 L1733.2 1516.5 L1733.2 1524.97 Q1734.22 1524.62 1735.23 1524.46 Q1736.25 1524.27 1737.27 1524.27 Q1743.06 1524.27 1746.44 1527.44 Q1749.82 1530.62 1749.82 1536.03 Q1749.82 1541.61 1746.35 1544.71 Q1742.87 1547.79 1736.55 1547.79 Q1734.38 1547.79 1732.11 1547.42 Q1729.86 1547.05 1727.46 1546.31 L1727.46 1541.61 Q1729.54 1542.74 1731.76 1543.3 Q1733.98 1543.86 1736.46 1543.86 Q1740.47 1543.86 1742.8 1541.75 Q1745.14 1539.64 1745.14 1536.03 Q1745.14 1532.42 1742.8 1530.31 Q1740.47 1528.21 1736.46 1528.21 Q1734.59 1528.21 1732.71 1528.62 Q1730.86 1529.04 1728.91 1529.92 L1728.91 1512.56 Z\" fill=\"#000000\" fill-rule=\"evenodd\" fill-opacity=\"1\" /><path clip-path=\"url(#clip400)\" d=\"M 0 0 M1764.89 1515.64 Q1761.28 1515.64 1759.45 1519.2 Q1757.64 1522.75 1757.64 1529.87 Q1757.64 1536.98 1759.45 1540.55 Q1761.28 1544.09 1764.89 1544.09 Q1768.52 1544.09 1770.33 1540.55 Q1772.16 1536.98 1772.16 1529.87 Q1772.16 1522.75 1770.33 1519.2 Q1768.52 1515.64 1764.89 1515.64 M1764.89 1511.93 Q1770.7 1511.93 1773.75 1516.54 Q1776.83 1521.12 1776.83 1529.87 Q1776.83 1538.6 1773.75 1543.21 Q1770.7 1547.79 1764.89 1547.79 Q1759.08 1547.79 1756 1543.21 Q1752.94 1538.6 1752.94 1529.87 Q1752.94 1521.12 1756 1516.54 Q1759.08 1511.93 1764.89 1511.93 Z\" fill=\"#000000\" fill-rule=\"evenodd\" fill-opacity=\"1\" /><path clip-path=\"url(#clip400)\" d=\"M 0 0 M2257.69 1543.18 L2274.01 1543.18 L2274.01 1547.12 L2252.07 1547.12 L2252.07 1543.18 Q2254.73 1540.43 2259.31 1535.8 Q2263.92 1531.15 2265.1 1529.81 Q2267.34 1527.28 2268.22 1525.55 Q2269.13 1523.79 2269.13 1522.1 Q2269.13 1519.34 2267.18 1517.61 Q2265.26 1515.87 2262.16 1515.87 Q2259.96 1515.87 2257.51 1516.63 Q2255.08 1517.4 2252.3 1518.95 L2252.3 1514.23 Q2255.12 1513.09 2257.58 1512.51 Q2260.03 1511.93 2262.07 1511.93 Q2267.44 1511.93 2270.63 1514.62 Q2273.83 1517.31 2273.83 1521.8 Q2273.83 1523.93 2273.02 1525.85 Q2272.23 1527.74 2270.12 1530.34 Q2269.54 1531.01 2266.44 1534.23 Q2263.34 1537.42 2257.69 1543.18 Z\" fill=\"#000000\" fill-rule=\"evenodd\" fill-opacity=\"1\" /><path clip-path=\"url(#clip400)\" d=\"M 0 0 M2289.08 1515.64 Q2285.47 1515.64 2283.64 1519.2 Q2281.84 1522.75 2281.84 1529.87 Q2281.84 1536.98 2283.64 1540.55 Q2285.47 1544.09 2289.08 1544.09 Q2292.71 1544.09 2294.52 1540.55 Q2296.35 1536.98 2296.35 1529.87 Q2296.35 1522.75 2294.52 1519.2 Q2292.71 1515.64 2289.08 1515.64 M2289.08 1511.93 Q2294.89 1511.93 2297.95 1516.54 Q2301.02 1521.12 2301.02 1529.87 Q2301.02 1538.6 2297.95 1543.21 Q2294.89 1547.79 2289.08 1547.79 Q2283.27 1547.79 2280.19 1543.21 Q2277.14 1538.6 2277.14 1529.87 Q2277.14 1521.12 2280.19 1516.54 Q2283.27 1511.93 2289.08 1511.93 Z\" fill=\"#000000\" fill-rule=\"evenodd\" fill-opacity=\"1\" /><path clip-path=\"url(#clip400)\" d=\"M 0 0 M2316.09 1515.64 Q2312.48 1515.64 2310.65 1519.2 Q2308.85 1522.75 2308.85 1529.87 Q2308.85 1536.98 2310.65 1540.55 Q2312.48 1544.09 2316.09 1544.09 Q2319.73 1544.09 2321.53 1540.55 Q2323.36 1536.98 2323.36 1529.87 Q2323.36 1522.75 2321.53 1519.2 Q2319.73 1515.64 2316.09 1515.64 M2316.09 1511.93 Q2321.9 1511.93 2324.96 1516.54 Q2328.04 1521.12 2328.04 1529.87 Q2328.04 1538.6 2324.96 1543.21 Q2321.9 1547.79 2316.09 1547.79 Q2310.28 1547.79 2307.21 1543.21 Q2304.15 1538.6 2304.15 1529.87 Q2304.15 1521.12 2307.21 1516.54 Q2310.28 1511.93 2316.09 1511.93 Z\" fill=\"#000000\" fill-rule=\"evenodd\" fill-opacity=\"1\" /><polyline clip-path=\"url(#clip402)\" style=\"stroke:#000000; stroke-width:2; stroke-opacity:0.1; fill:none\" points=\"\n",
       "  137.246,1368.38 2352.76,1368.38 \n",
       "  \"/>\n",
       "<polyline clip-path=\"url(#clip402)\" style=\"stroke:#000000; stroke-width:2; stroke-opacity:0.1; fill:none\" points=\"\n",
       "  137.246,1103.66 2352.76,1103.66 \n",
       "  \"/>\n",
       "<polyline clip-path=\"url(#clip402)\" style=\"stroke:#000000; stroke-width:2; stroke-opacity:0.1; fill:none\" points=\"\n",
       "  137.246,838.935 2352.76,838.935 \n",
       "  \"/>\n",
       "<polyline clip-path=\"url(#clip402)\" style=\"stroke:#000000; stroke-width:2; stroke-opacity:0.1; fill:none\" points=\"\n",
       "  137.246,574.213 2352.76,574.213 \n",
       "  \"/>\n",
       "<polyline clip-path=\"url(#clip402)\" style=\"stroke:#000000; stroke-width:2; stroke-opacity:0.1; fill:none\" points=\"\n",
       "  137.246,309.491 2352.76,309.491 \n",
       "  \"/>\n",
       "<polyline clip-path=\"url(#clip400)\" style=\"stroke:#000000; stroke-width:4; stroke-opacity:1; fill:none\" points=\"\n",
       "  137.246,1486.45 137.246,47.2441 \n",
       "  \"/>\n",
       "<polyline clip-path=\"url(#clip400)\" style=\"stroke:#000000; stroke-width:4; stroke-opacity:1; fill:none\" points=\"\n",
       "  137.246,1368.38 163.833,1368.38 \n",
       "  \"/>\n",
       "<polyline clip-path=\"url(#clip400)\" style=\"stroke:#000000; stroke-width:4; stroke-opacity:1; fill:none\" points=\"\n",
       "  137.246,1103.66 163.833,1103.66 \n",
       "  \"/>\n",
       "<polyline clip-path=\"url(#clip400)\" style=\"stroke:#000000; stroke-width:4; stroke-opacity:1; fill:none\" points=\"\n",
       "  137.246,838.935 163.833,838.935 \n",
       "  \"/>\n",
       "<polyline clip-path=\"url(#clip400)\" style=\"stroke:#000000; stroke-width:4; stroke-opacity:1; fill:none\" points=\"\n",
       "  137.246,574.213 163.833,574.213 \n",
       "  \"/>\n",
       "<polyline clip-path=\"url(#clip400)\" style=\"stroke:#000000; stroke-width:4; stroke-opacity:1; fill:none\" points=\"\n",
       "  137.246,309.491 163.833,309.491 \n",
       "  \"/>\n",
       "<path clip-path=\"url(#clip400)\" d=\"M 0 0 M67.1032 1367.03 Q70.4596 1367.74 72.3346 1370.01 Q74.2327 1372.28 74.2327 1375.61 Q74.2327 1380.73 70.7142 1383.53 Q67.1957 1386.33 60.7143 1386.33 Q58.5384 1386.33 56.2236 1385.89 Q53.9319 1385.47 51.4782 1384.62 L51.4782 1380.1 Q53.4227 1381.24 55.7375 1381.82 Q58.0523 1382.4 60.5754 1382.4 Q64.9735 1382.4 67.2652 1380.66 Q69.58 1378.92 69.58 1375.61 Q69.58 1372.56 67.4272 1370.85 Q65.2976 1369.11 61.4782 1369.11 L57.4504 1369.11 L57.4504 1365.27 L61.6634 1365.27 Q65.1124 1365.27 66.9411 1363.9 Q68.7698 1362.51 68.7698 1359.92 Q68.7698 1357.26 66.8717 1355.85 Q64.9967 1354.41 61.4782 1354.41 Q59.5569 1354.41 57.3578 1354.83 Q55.1588 1355.24 52.5199 1356.12 L52.5199 1351.96 Q55.1819 1351.22 57.4967 1350.85 Q59.8347 1350.47 61.8948 1350.47 Q67.2189 1350.47 70.3207 1352.91 Q73.4226 1355.31 73.4226 1359.43 Q73.4226 1362.3 71.7791 1364.29 Q70.1355 1366.26 67.1032 1367.03 Z\" fill=\"#000000\" fill-rule=\"evenodd\" fill-opacity=\"1\" /><path clip-path=\"url(#clip400)\" d=\"M 0 0 M89.3021 1354.18 Q85.691 1354.18 83.8623 1357.74 Q82.0568 1361.29 82.0568 1368.41 Q82.0568 1375.52 83.8623 1379.09 Q85.691 1382.63 89.3021 1382.63 Q92.9363 1382.63 94.7419 1379.09 Q96.5706 1375.52 96.5706 1368.41 Q96.5706 1361.29 94.7419 1357.74 Q92.9363 1354.18 89.3021 1354.18 M89.3021 1350.47 Q95.1123 1350.47 98.1678 1355.08 Q101.246 1359.66 101.246 1368.41 Q101.246 1377.14 98.1678 1381.75 Q95.1123 1386.33 89.3021 1386.33 Q83.492 1386.33 80.4133 1381.75 Q77.3577 1377.14 77.3577 1368.41 Q77.3577 1359.66 80.4133 1355.08 Q83.492 1350.47 89.3021 1350.47 Z\" fill=\"#000000\" fill-rule=\"evenodd\" fill-opacity=\"1\" /><path clip-path=\"url(#clip400)\" d=\"M 0 0 M68.7004 1102.3 Q72.0568 1103.02 73.9318 1105.29 Q75.83 1107.56 75.83 1110.89 Q75.83 1116.01 72.3115 1118.81 Q68.793 1121.61 62.3115 1121.61 Q60.1356 1121.61 57.8208 1121.17 Q55.5291 1120.75 53.0754 1119.9 L53.0754 1115.38 Q55.0199 1116.52 57.3347 1117.09 Q59.6495 1117.67 62.1726 1117.67 Q66.5707 1117.67 68.8624 1115.94 Q71.1772 1114.2 71.1772 1110.89 Q71.1772 1107.84 69.0244 1106.12 Q66.8948 1104.39 63.0754 1104.39 L59.0476 1104.39 L59.0476 1100.54 L63.2606 1100.54 Q66.7096 1100.54 68.5383 1099.18 Q70.367 1097.79 70.367 1095.2 Q70.367 1092.53 68.4689 1091.12 Q66.5939 1089.69 63.0754 1089.69 Q61.1541 1089.69 58.955 1090.1 Q56.756 1090.52 54.1171 1091.4 L54.1171 1087.23 Q56.7791 1086.49 59.0939 1086.12 Q61.4319 1085.75 63.4921 1085.75 Q68.8161 1085.75 71.9179 1088.18 Q75.0198 1090.59 75.0198 1094.71 Q75.0198 1097.58 73.3763 1099.57 Q71.7328 1101.54 68.7004 1102.3 Z\" fill=\"#000000\" fill-rule=\"evenodd\" fill-opacity=\"1\" /><path clip-path=\"url(#clip400)\" d=\"M 0 0 M84.9271 1117 L101.246 1117 L101.246 1120.94 L79.3022 1120.94 L79.3022 1117 Q81.9642 1114.25 86.5475 1109.62 Q91.1539 1104.97 92.3345 1103.62 Q94.5799 1101.1 95.4595 1099.36 Q96.3623 1097.6 96.3623 1095.91 Q96.3623 1093.16 94.4178 1091.42 Q92.4965 1089.69 89.3947 1089.69 Q87.1956 1089.69 84.7419 1090.45 Q82.3114 1091.22 79.5336 1092.77 L79.5336 1088.04 Q82.3577 1086.91 84.8114 1086.33 Q87.2651 1085.75 89.3021 1085.75 Q94.6724 1085.75 97.8669 1088.44 Q101.061 1091.12 101.061 1095.61 Q101.061 1097.74 100.251 1099.66 Q99.4641 1101.56 97.3576 1104.16 Q96.7789 1104.83 93.6771 1108.04 Q90.5752 1111.24 84.9271 1117 Z\" fill=\"#000000\" fill-rule=\"evenodd\" fill-opacity=\"1\" /><path clip-path=\"url(#clip400)\" d=\"M 0 0 M66.617 837.581 Q69.9735 838.299 71.8485 840.567 Q73.7466 842.836 73.7466 846.169 Q73.7466 851.285 70.2281 854.086 Q66.7096 856.886 60.2282 856.886 Q58.0523 856.886 55.7375 856.447 Q53.4458 856.03 50.9921 855.174 L50.9921 850.66 Q52.9366 851.794 55.2514 852.373 Q57.5662 852.951 60.0893 852.951 Q64.4874 852.951 66.7791 851.215 Q69.0939 849.479 69.0939 846.169 Q69.0939 843.113 66.9411 841.4 Q64.8115 839.664 60.9921 839.664 L56.9643 839.664 L56.9643 835.822 L61.1773 835.822 Q64.6263 835.822 66.455 834.456 Q68.2837 833.067 68.2837 830.475 Q68.2837 827.813 66.3856 826.401 Q64.5106 824.965 60.9921 824.965 Q59.0708 824.965 56.8717 825.382 Q54.6727 825.799 52.0338 826.678 L52.0338 822.512 Q54.6958 821.771 57.0106 821.401 Q59.3486 821.03 61.4087 821.03 Q66.7328 821.03 69.8346 823.461 Q72.9365 825.868 72.9365 829.988 Q72.9365 832.859 71.2929 834.85 Q69.6494 836.817 66.617 837.581 Z\" fill=\"#000000\" fill-rule=\"evenodd\" fill-opacity=\"1\" /><path clip-path=\"url(#clip400)\" d=\"M 0 0 M91.6632 825.729 L79.8577 844.178 L91.6632 844.178 L91.6632 825.729 M90.4364 821.655 L96.316 821.655 L96.316 844.178 L101.246 844.178 L101.246 848.067 L96.316 848.067 L96.316 856.215 L91.6632 856.215 L91.6632 848.067 L76.0614 848.067 L76.0614 843.553 L90.4364 821.655 Z\" fill=\"#000000\" fill-rule=\"evenodd\" fill-opacity=\"1\" /><path clip-path=\"url(#clip400)\" d=\"M 0 0 M66.9411 572.859 Q70.2976 573.576 72.1726 575.845 Q74.0707 578.113 74.0707 581.447 Q74.0707 586.562 70.5522 589.363 Q67.0337 592.164 60.5523 592.164 Q58.3763 592.164 56.0615 591.724 Q53.7699 591.308 51.3162 590.451 L51.3162 585.937 Q53.2606 587.072 55.5754 587.65 Q57.8902 588.229 60.4134 588.229 Q64.8115 588.229 67.1032 586.493 Q69.418 584.757 69.418 581.447 Q69.418 578.391 67.2652 576.678 Q65.1356 574.942 61.3161 574.942 L57.2884 574.942 L57.2884 571.099 L61.5013 571.099 Q64.9504 571.099 66.7791 569.734 Q68.6078 568.345 68.6078 565.752 Q68.6078 563.09 66.7096 561.678 Q64.8346 560.243 61.3161 560.243 Q59.3949 560.243 57.1958 560.66 Q54.9967 561.076 52.3579 561.956 L52.3579 557.789 Q55.0199 557.049 57.3347 556.678 Q59.6726 556.308 61.7328 556.308 Q67.0569 556.308 70.1587 558.738 Q73.2605 561.146 73.2605 565.266 Q73.2605 568.136 71.617 570.127 Q69.9735 572.095 66.9411 572.859 Z\" fill=\"#000000\" fill-rule=\"evenodd\" fill-opacity=\"1\" /><path clip-path=\"url(#clip400)\" d=\"M 0 0 M89.7188 572.349 Q86.5706 572.349 84.7188 574.502 Q82.8901 576.655 82.8901 580.405 Q82.8901 584.132 84.7188 586.308 Q86.5706 588.46 89.7188 588.46 Q92.8669 588.46 94.6956 586.308 Q96.5474 584.132 96.5474 580.405 Q96.5474 576.655 94.6956 574.502 Q92.8669 572.349 89.7188 572.349 M99.0011 557.697 L99.0011 561.956 Q97.2419 561.123 95.4363 560.683 Q93.6539 560.243 91.8947 560.243 Q87.2651 560.243 84.8114 563.368 Q82.3808 566.493 82.0336 572.812 Q83.3994 570.799 85.4595 569.734 Q87.5197 568.646 89.9965 568.646 Q95.2049 568.646 98.2141 571.817 Q101.246 574.965 101.246 580.405 Q101.246 585.729 98.0984 588.947 Q94.9502 592.164 89.7188 592.164 Q83.7234 592.164 80.5522 587.581 Q77.3809 582.974 77.3809 574.248 Q77.3809 566.053 81.2697 561.192 Q85.1586 556.308 91.7095 556.308 Q93.4688 556.308 95.2511 556.655 Q97.0567 557.002 99.0011 557.697 Z\" fill=\"#000000\" fill-rule=\"evenodd\" fill-opacity=\"1\" /><path clip-path=\"url(#clip400)\" d=\"M 0 0 M67.1957 308.136 Q70.5522 308.854 72.4272 311.122 Q74.3253 313.391 74.3253 316.724 Q74.3253 321.84 70.8068 324.641 Q67.2883 327.442 60.8069 327.442 Q58.631 327.442 56.3162 327.002 Q54.0245 326.585 51.5708 325.729 L51.5708 321.215 Q53.5153 322.349 55.8301 322.928 Q58.1449 323.507 60.668 323.507 Q65.0661 323.507 67.3578 321.771 Q69.6726 320.034 69.6726 316.724 Q69.6726 313.669 67.5198 311.956 Q65.3902 310.22 61.5708 310.22 L57.543 310.22 L57.543 306.377 L61.756 306.377 Q65.205 306.377 67.0337 305.011 Q68.8624 303.622 68.8624 301.03 Q68.8624 298.368 66.9643 296.956 Q65.0893 295.521 61.5708 295.521 Q59.6495 295.521 57.4504 295.937 Q55.2514 296.354 52.6125 297.234 L52.6125 293.067 Q55.2745 292.326 57.5893 291.956 Q59.9273 291.586 61.9874 291.586 Q67.3115 291.586 70.4133 294.016 Q73.5152 296.423 73.5152 300.544 Q73.5152 303.414 71.8716 305.405 Q70.2281 307.372 67.1957 308.136 Z\" fill=\"#000000\" fill-rule=\"evenodd\" fill-opacity=\"1\" /><path clip-path=\"url(#clip400)\" d=\"M 0 0 M89.3947 310.359 Q86.0614 310.359 84.1401 312.141 Q82.242 313.923 82.242 317.048 Q82.242 320.173 84.1401 321.956 Q86.0614 323.738 89.3947 323.738 Q92.728 323.738 94.6493 321.956 Q96.5706 320.15 96.5706 317.048 Q96.5706 313.923 94.6493 312.141 Q92.7512 310.359 89.3947 310.359 M84.7188 308.368 Q81.7096 307.627 80.0197 305.567 Q78.3531 303.507 78.3531 300.544 Q78.3531 296.4 81.2929 293.993 Q84.2558 291.586 89.3947 291.586 Q94.5567 291.586 97.4965 293.993 Q100.436 296.4 100.436 300.544 Q100.436 303.507 98.7465 305.567 Q97.0798 307.627 94.0937 308.368 Q97.4734 309.155 99.3483 311.447 Q101.246 313.738 101.246 317.048 Q101.246 322.071 98.1678 324.757 Q95.1123 327.442 89.3947 327.442 Q83.6771 327.442 80.5984 324.757 Q77.5429 322.071 77.5429 317.048 Q77.5429 313.738 79.441 311.447 Q81.3392 309.155 84.7188 308.368 M83.0058 300.984 Q83.0058 303.669 84.6725 305.173 Q86.3623 306.678 89.3947 306.678 Q92.4039 306.678 94.0937 305.173 Q95.8067 303.669 95.8067 300.984 Q95.8067 298.298 94.0937 296.794 Q92.4039 295.289 89.3947 295.289 Q86.3623 295.289 84.6725 296.794 Q83.0058 298.298 83.0058 300.984 Z\" fill=\"#000000\" fill-rule=\"evenodd\" fill-opacity=\"1\" /><polyline clip-path=\"url(#clip402)\" style=\"stroke:#009af9; stroke-width:4; stroke-opacity:1; fill:none\" points=\"\n",
       "  199.95,379.052 309.955,135.883 419.96,114.653 529.966,87.9763 639.971,133.277 749.977,215.02 859.982,293.786 969.988,381.259 1079.99,461.953 1190,538.11 \n",
       "  1300,610.608 1410.01,717.162 1520.01,830.373 1630.02,892.276 1740.03,979.17 1850.03,1086.06 1960.04,1161.06 2070.04,1317.47 2180.05,1359.49 2290.05,1445.72 \n",
       "  \n",
       "  \"/>\n",
       "<path clip-path=\"url(#clip400)\" d=\"\n",
       "M1981.72 216.178 L2278.91 216.178 L2278.91 95.2176 L1981.72 95.2176  Z\n",
       "  \" fill=\"#ffffff\" fill-rule=\"evenodd\" fill-opacity=\"1\"/>\n",
       "<polyline clip-path=\"url(#clip400)\" style=\"stroke:#000000; stroke-width:4; stroke-opacity:1; fill:none\" points=\"\n",
       "  1981.72,216.178 2278.91,216.178 2278.91,95.2176 1981.72,95.2176 1981.72,216.178 \n",
       "  \"/>\n",
       "<polyline clip-path=\"url(#clip400)\" style=\"stroke:#009af9; stroke-width:4; stroke-opacity:1; fill:none\" points=\"\n",
       "  2006.34,155.698 2154.04,155.698 \n",
       "  \"/>\n",
       "<path clip-path=\"url(#clip400)\" d=\"M 0 0 M2192.5 175.385 Q2190.69 180.015 2188.98 181.427 Q2187.26 182.839 2184.39 182.839 L2180.99 182.839 L2180.99 179.274 L2183.49 179.274 Q2185.25 179.274 2186.22 178.44 Q2187.2 177.607 2188.38 174.505 L2189.14 172.561 L2178.65 147.052 L2183.17 147.052 L2191.27 167.329 L2199.37 147.052 L2203.89 147.052 L2192.5 175.385 Z\" fill=\"#000000\" fill-rule=\"evenodd\" fill-opacity=\"1\" /><path clip-path=\"url(#clip400)\" d=\"M 0 0 M2209.76 169.042 L2217.4 169.042 L2217.4 142.677 L2209.09 144.343 L2209.09 140.084 L2217.36 138.418 L2222.03 138.418 L2222.03 169.042 L2229.67 169.042 L2229.67 172.978 L2209.76 172.978 L2209.76 169.042 Z\" fill=\"#000000\" fill-rule=\"evenodd\" fill-opacity=\"1\" /></svg>\n"
      ]
     },
     "execution_count": 163,
     "metadata": {},
     "output_type": "execute_result"
    }
   ],
   "source": [
    "# test different value of s for OMP on random basis\n",
    "error_wrt_s(A_rd, 10, 210, 10)"
   ]
  },
  {
   "cell_type": "markdown",
   "metadata": {},
   "source": [
    "We can notice that the error first increases and reach a maximum for s=40, then it decreases more or lesslinearly. It seems not to be a particular case since I observed similar behaviour with other digits. \n",
    "\n",
    "The error l1 with s=200 is 30, with a gray color scale between 0 and 255"
   ]
  },
  {
   "cell_type": "code",
   "execution_count": 27,
   "metadata": {},
   "outputs": [
    {
     "name": "stderr",
     "output_type": "stream",
     "text": [
      "┌ Info: Precompiling ImageView [86fae568-95e7-573e-a6b2-d8a6b900c9ef]\n",
      "└ @ Base loading.jl:1278\n"
     ]
    }
   ],
   "source": [
    "using ImageView"
   ]
  },
  {
   "cell_type": "code",
   "execution_count": 183,
   "metadata": {},
   "outputs": [
    {
     "data": {
      "text/plain": [
       "cosine_basis (generic function with 1 method)"
      ]
     },
     "execution_count": 183,
     "metadata": {},
     "output_type": "execute_result"
    }
   ],
   "source": [
    "function cosine_basis(m, N, freq_min, freq_max)\n",
    "    # generate a cosine dictionary : each column is a cosinus function. The frequency increases with the column index\n",
    "    # freq_min = frequency of first column , freq_max frequency of last column\n",
    "    A = zeros(m, N)\n",
    "    f = 0\n",
    "    f_step = (freq_max - freq_min)/N\n",
    "    for t in 1:m\n",
    "        for j in 1:N\n",
    "            A[t, j] = cos(2*pi*f*t)\n",
    "            f = f + f_step\n",
    "        end\n",
    "    end\n",
    "    return A\n",
    "end\n"
   ]
  },
  {
   "cell_type": "code",
   "execution_count": 184,
   "metadata": {},
   "outputs": [
    {
     "data": {
      "text/plain": [
       "784×2000 Array{Float64,2}:\n",
       " 1.0        0.827081    0.368125    …  -0.218143   0.368125     0.827081\n",
       " 1.0        0.368125   -0.728969       -0.904827  -0.728969     0.368125\n",
       " 1.0       -0.218143   -0.904827        0.612907  -0.904827    -0.218143\n",
       " 1.0       -0.728969    0.0627905       0.637424   0.0627905   -0.728969\n",
       " 1.0       -0.987688    0.951057       -0.891007   0.951057    -0.987688\n",
       " 1.0       -0.904827    0.637424    …  -0.24869    0.637424    -0.904827\n",
       " 1.0       -0.509041   -0.481754        0.999507  -0.481754    -0.509041\n",
       " 1.0        0.0627905  -0.992115       -0.187381  -0.992115     0.0627905\n",
       " 1.0        0.612907   -0.24869        -0.917755  -0.24869      0.612907\n",
       " 1.0        0.951057    0.809017        0.587785   0.809017     0.951057\n",
       " 1.0        0.960294    0.844328    …   0.661312   0.844328     0.960294\n",
       " 1.0        0.637424   -0.187381       -0.876307  -0.187381     0.637424\n",
       " 1.0        0.0941083  -0.982287       -0.278991  -0.982287     0.0941083\n",
       " ⋮                                  ⋱                          \n",
       " 0.999972  -0.920713    0.690006       -0.331647   0.679041    -0.914739\n",
       " 0.999972  -0.980847    0.926976       -0.848348   0.932528    -0.983674\n",
       " 0.999971  -0.701743   -0.00755746      0.701735   0.00756881  -0.712438\n",
       " 0.999971  -0.179932   -0.93254     …   0.54222   -0.926956    -0.194831\n",
       " 0.999971   0.404111   -0.678987       -0.938275  -0.690075     0.390151\n",
       " 0.999971   0.848387    0.432662       -0.132902   0.418861     0.840214\n",
       " 0.999971   0.999237    0.997518        0.996253   0.998478     0.999718\n",
       " 0.999971   0.804489    0.30172        -0.301709   0.316307     0.813504\n",
       " 0.99997    0.331498   -0.775389    …  -0.864634  -0.765585     0.345969\n",
       " 0.99997   -0.256146   -0.872568        0.678901  -0.879998    -0.241208\n",
       " 0.99997   -0.755199    0.132996        0.568467   0.117652    -0.744971\n",
       " 0.99997   -0.993056    0.970481       -0.926892   0.966624    -0.991112"
      ]
     },
     "execution_count": 184,
     "metadata": {},
     "output_type": "execute_result"
    }
   ],
   "source": [
    "m = 784\n",
    "N = 2000\n",
    "A_cos = cosine_basis(m, N, 10, 200)"
   ]
  },
  {
   "cell_type": "code",
   "execution_count": 185,
   "metadata": {},
   "outputs": [
    {
     "data": {
      "image/png": "iVBORw0KGgoAAAANSUhEUgAAAHAAAABwCAAAAADji6uXAAAABGdBTUEAALGPC/xhBQAAACBjSFJNAAB6JgAAgIQAAPoAAACA6AAAdTAAAOpgAAA6mAAAF3CculE8AAAAAmJLR0QA/4ePzL8AAAU7SURBVGje5dpPjF5VGQbw31e+YZgp1NJpSxWntpRSWtpSK3/ExFbaIgY1siCYblzgzsS4cMPWJSHRhJVGMS5cgMEVKREEjDFgolKwVlvoP4toC8xUsH9m7HRaFs+53ttpw/K75nKTyT33nHvPO+d9vuc9z/ve21uAMRzBEGZwEyZwooxNuvRYhjX4LbaVe/48Z/w4luNNjOJqzDPgo/sGeysFuzdKx1WYbvw350t7cTm/j4+Xv0nBfrYx4VfxDv6Gk5URXGhrhd032KPmylLxf+Xz5fg3Pim4DuHv+Dzewuu4DX8qky0VXBfiHNbJb+O/6GPtR8Klg8dwE14rF5/Gq6X9MeHcPfiHcOqfEg+HsQKvCF7TEoNnP8RQFVu779J2eLhS9r++8A6uxNnLPLBK8HoTI5gv2P9VeHtAuLi4zLlJfiN94Wb3XTpwg30SF5fgX6VzWMBdKfvdJ7ABz+JQ4+HVeK+0z+GYGr9ZwXtY/Xu4u40Vdt9gr3mxEOP4S6NvCN/A44Lzu+W//DKeLu2rcEb07Bu4A39Qc28IV5Tx7ru0HQyrnOJWyQ+uE20zitPlxjHB4wd4DN/EU7I/zuC5ct8WwW+pxFvquNrKCrtvsNfMJeBB3InvNvruwnp8G7+UGLtLcHq09D8ue+PpxnP34ZnG9a1trLD7BvtXC4Y3Yz9eUvMHviKxcZnE0ZfwPbVuXYcd+CP24Abh714X40c43n2XDh7DUfH5/nK+UTTOF4SPd+Mgfih65n2JtW+XCZ7ATjWXD5fz9ZKLrJE88gbRTN13aTv74SKJi4dFPz4ienJKNOXDok+Wi+48Lzx8S/j5c2wtE46Jvpkq19eq85VWVth9g/0RqYueEH1yFj8W7t0ied+Q5Aqv4yH8VGLoEeHkQXxRdM1G/KZhoMJvvcTX7rt08BhOqbXkKcktKl1S5YIzwrdpwW+r1Lq34l5sxk+EqxfmGKg06bttrbD7BvvEx6slL5xQx8Fx2ff+I3nFe6W/qmXPSD64Ab8vfXvmGKhyirelntN9lw4ew8/hqOx1pD5NNMmB0t6krqnCbqlfT0iMnWiMnSjnUcnrrxDMZ8tY9106eAxfLo3j5bxB/L1GckGid0aEn7fIu4t9Zew+2S+/I5r1Z3igzHGvYPj9Mna0jRV23+D/am2fEh+vlX1viXByQnKE6hjHlyS+7pS8/jl8TeLqq6JzP4tf4EnRqQTr7rt08Dys6tFjguGo6Mzqvf4awXAj7hedeTtelhr4FlyDH+Fbon12Sy1nt+jX6v3izEfCpe3wsMJxXPauaYmBWySfuAefkTh7Uq19JkTLTArX5qlziarezcXvlrvv0vZi6SLJLc5KfPx66btfamRjUgPYJfW2hYL9O+X57XihtKt3VtWxSfRRv40Vdt9gb27HjRJLF8s3M1NSI5tyae5X6ZwRicGT5bxC9sbt+LXUdbbhxTZW2H2DvRHx+b5GZ1XP3im5/Hx1nnGtAF/lEE3+Vc+R+uh16rxxXOJz913aDg/H5ZuZeYLXycYNw+L7M437Fgv/zqi5OarWn6tEB01fxmD3XTp4DJcIHqcandcLltX3ilXeQa1PduB5yUFOCtbXSB187lG939/Yxgq7b7DX/IZ0WF2nWSc6ZoHsc5PqeLpIYumVwr9ZwfaQEHuZfFvzf7HC7hvsnxdNslTNNYLL70r/SuHdAeHdAuHpcTWeVX38gujQY5KPvFLm2IxftbHC7hvsEXz2CiY3yZ43JbnArIv16FqJl9WeWX3L0eTz3GOF1OfWtbHC7hv8AE++PirP846JAAAAAElFTkSuQmCC",
      "text/plain": [
       "28×28 Array{Gray{Float64},2} with eltype Gray{Float64}:\n",
       " Gray{Float64}(0.0548451)   …  Gray{Float64}(0.0868068)\n",
       " Gray{Float64}(0.128699)       Gray{Float64}(-0.0768432)\n",
       " Gray{Float64}(-0.147224)      Gray{Float64}(0.223399)\n",
       " Gray{Float64}(0.186937)       Gray{Float64}(-0.157213)\n",
       " Gray{Float64}(-0.321848)      Gray{Float64}(-0.0567337)\n",
       " Gray{Float64}(-0.100091)   …  Gray{Float64}(0.2567)\n",
       " Gray{Float64}(-0.0537485)     Gray{Float64}(0.181103)\n",
       " Gray{Float64}(-0.100512)      Gray{Float64}(-0.166142)\n",
       " Gray{Float64}(0.0299839)      Gray{Float64}(0.183349)\n",
       " Gray{Float64}(0.080092)       Gray{Float64}(-0.147564)\n",
       " Gray{Float64}(0.118473)    …  Gray{Float64}(0.0320997)\n",
       " Gray{Float64}(-0.0637082)     Gray{Float64}(-0.219267)\n",
       " Gray{Float64}(0.0348018)      Gray{Float64}(-0.0813477)\n",
       " ⋮                          ⋱  \n",
       " Gray{Float64}(-0.012956)      Gray{Float64}(-0.164782)\n",
       " Gray{Float64}(-0.0562355)     Gray{Float64}(0.0184239)\n",
       " Gray{Float64}(0.0241274)      Gray{Float64}(-0.062684)\n",
       " Gray{Float64}(-0.150796)      Gray{Float64}(0.00449592)\n",
       " Gray{Float64}(-0.131976)   …  Gray{Float64}(0.0578355)\n",
       " Gray{Float64}(-0.0173133)     Gray{Float64}(-0.00444479)\n",
       " Gray{Float64}(0.0362286)      Gray{Float64}(0.126574)\n",
       " Gray{Float64}(-0.232353)      Gray{Float64}(-0.103748)\n",
       " Gray{Float64}(0.0828726)      Gray{Float64}(0.178721)\n",
       " Gray{Float64}(0.00800324)  …  Gray{Float64}(-0.0232446)\n",
       " Gray{Float64}(-0.134892)      Gray{Float64}(-0.0934896)\n",
       " Gray{Float64}(-0.0655997)     Gray{Float64}(0.165552)"
      ]
     },
     "execution_count": 185,
     "metadata": {},
     "output_type": "execute_result"
    }
   ],
   "source": [
    "# visualize results on one piece of data with s=150\n",
    "_, recons_cos, _ = compression_reconstruction(dig, A_cos, 150)\n",
    "reshaped_cos = reshape(recons_digit, (28, 28))\n",
    "Gray.(reshaped_cos/255)"
   ]
  },
  {
   "cell_type": "code",
   "execution_count": 186,
   "metadata": {},
   "outputs": [
    {
     "name": "stdout",
     "output_type": "stream",
     "text": [
      "s=10\n",
      "error=37.47445515190966\n",
      "s=20\n",
      "error=39.31162009787826\n",
      "s=30\n",
      "error=39.47201271213788\n",
      "s=40\n",
      "error=39.67355896004291\n",
      "s=50\n",
      "error=39.331307543962495\n",
      "s=60\n",
      "error=38.713733853328506\n",
      "s=70\n",
      "error=38.11864642141602\n",
      "s=80\n",
      "error=37.457785698403356\n",
      "s=90\n",
      "error=36.8481359021006\n",
      "s=100\n",
      "error=36.27275916914821\n",
      "s=110\n",
      "error=35.72503208581891\n",
      "s=120\n",
      "error=34.92000403260697\n",
      "s=130\n",
      "error=34.06468989725727\n",
      "s=140\n",
      "error=33.59700470513106\n",
      "s=150\n",
      "error=32.940511940897515\n",
      "s=160\n",
      "error=32.13297107574285\n",
      "s=170\n",
      "error=31.56630237313214\n",
      "s=180\n",
      "error=30.384612604081997\n",
      "s=190\n",
      "error=30.067150594525746\n"
     ]
    },
    {
     "data": {
      "image/svg+xml": [
       "<?xml version=\"1.0\" encoding=\"utf-8\"?>\n",
       "<svg xmlns=\"http://www.w3.org/2000/svg\" xmlns:xlink=\"http://www.w3.org/1999/xlink\" width=\"600\" height=\"400\" viewBox=\"0 0 2400 1600\">\n",
       "<defs>\n",
       "  <clipPath id=\"clip480\">\n",
       "    <rect x=\"0\" y=\"0\" width=\"2400\" height=\"1600\"/>\n",
       "  </clipPath>\n",
       "</defs>\n",
       "<path clip-path=\"url(#clip480)\" d=\"\n",
       "M0 1600 L2400 1600 L2400 0 L0 0  Z\n",
       "  \" fill=\"#ffffff\" fill-rule=\"evenodd\" fill-opacity=\"1\"/>\n",
       "<defs>\n",
       "  <clipPath id=\"clip481\">\n",
       "    <rect x=\"480\" y=\"0\" width=\"1681\" height=\"1600\"/>\n",
       "  </clipPath>\n",
       "</defs>\n",
       "<path clip-path=\"url(#clip480)\" d=\"\n",
       "M137.246 1486.45 L2352.76 1486.45 L2352.76 47.2441 L137.246 47.2441  Z\n",
       "  \" fill=\"#ffffff\" fill-rule=\"evenodd\" fill-opacity=\"1\"/>\n",
       "<defs>\n",
       "  <clipPath id=\"clip482\">\n",
       "    <rect x=\"137\" y=\"47\" width=\"2217\" height=\"1440\"/>\n",
       "  </clipPath>\n",
       "</defs>\n",
       "<polyline clip-path=\"url(#clip482)\" style=\"stroke:#000000; stroke-width:2; stroke-opacity:0.1; fill:none\" points=\"\n",
       "  374.125,1486.45 374.125,47.2441 \n",
       "  \"/>\n",
       "<polyline clip-path=\"url(#clip482)\" style=\"stroke:#000000; stroke-width:2; stroke-opacity:0.1; fill:none\" points=\"\n",
       "  664.417,1486.45 664.417,47.2441 \n",
       "  \"/>\n",
       "<polyline clip-path=\"url(#clip482)\" style=\"stroke:#000000; stroke-width:2; stroke-opacity:0.1; fill:none\" points=\"\n",
       "  954.709,1486.45 954.709,47.2441 \n",
       "  \"/>\n",
       "<polyline clip-path=\"url(#clip482)\" style=\"stroke:#000000; stroke-width:2; stroke-opacity:0.1; fill:none\" points=\"\n",
       "  1245,1486.45 1245,47.2441 \n",
       "  \"/>\n",
       "<polyline clip-path=\"url(#clip482)\" style=\"stroke:#000000; stroke-width:2; stroke-opacity:0.1; fill:none\" points=\"\n",
       "  1535.29,1486.45 1535.29,47.2441 \n",
       "  \"/>\n",
       "<polyline clip-path=\"url(#clip482)\" style=\"stroke:#000000; stroke-width:2; stroke-opacity:0.1; fill:none\" points=\"\n",
       "  1825.59,1486.45 1825.59,47.2441 \n",
       "  \"/>\n",
       "<polyline clip-path=\"url(#clip482)\" style=\"stroke:#000000; stroke-width:2; stroke-opacity:0.1; fill:none\" points=\"\n",
       "  2115.88,1486.45 2115.88,47.2441 \n",
       "  \"/>\n",
       "<polyline clip-path=\"url(#clip480)\" style=\"stroke:#000000; stroke-width:4; stroke-opacity:1; fill:none\" points=\"\n",
       "  137.246,1486.45 2352.76,1486.45 \n",
       "  \"/>\n",
       "<polyline clip-path=\"url(#clip480)\" style=\"stroke:#000000; stroke-width:4; stroke-opacity:1; fill:none\" points=\"\n",
       "  374.125,1486.45 374.125,1469.18 \n",
       "  \"/>\n",
       "<polyline clip-path=\"url(#clip480)\" style=\"stroke:#000000; stroke-width:4; stroke-opacity:1; fill:none\" points=\"\n",
       "  664.417,1486.45 664.417,1469.18 \n",
       "  \"/>\n",
       "<polyline clip-path=\"url(#clip480)\" style=\"stroke:#000000; stroke-width:4; stroke-opacity:1; fill:none\" points=\"\n",
       "  954.709,1486.45 954.709,1469.18 \n",
       "  \"/>\n",
       "<polyline clip-path=\"url(#clip480)\" style=\"stroke:#000000; stroke-width:4; stroke-opacity:1; fill:none\" points=\"\n",
       "  1245,1486.45 1245,1469.18 \n",
       "  \"/>\n",
       "<polyline clip-path=\"url(#clip480)\" style=\"stroke:#000000; stroke-width:4; stroke-opacity:1; fill:none\" points=\"\n",
       "  1535.29,1486.45 1535.29,1469.18 \n",
       "  \"/>\n",
       "<polyline clip-path=\"url(#clip480)\" style=\"stroke:#000000; stroke-width:4; stroke-opacity:1; fill:none\" points=\"\n",
       "  1825.59,1486.45 1825.59,1469.18 \n",
       "  \"/>\n",
       "<polyline clip-path=\"url(#clip480)\" style=\"stroke:#000000; stroke-width:4; stroke-opacity:1; fill:none\" points=\"\n",
       "  2115.88,1486.45 2115.88,1469.18 \n",
       "  \"/>\n",
       "<path clip-path=\"url(#clip480)\" d=\"M 0 0 M355.768 1543.18 L372.088 1543.18 L372.088 1547.12 L350.143 1547.12 L350.143 1543.18 Q352.806 1540.43 357.389 1535.8 Q361.995 1531.15 363.176 1529.81 Q365.421 1527.28 366.301 1525.55 Q367.204 1523.79 367.204 1522.1 Q367.204 1519.34 365.259 1517.61 Q363.338 1515.87 360.236 1515.87 Q358.037 1515.87 355.583 1516.63 Q353.153 1517.4 350.375 1518.95 L350.375 1514.23 Q353.199 1513.09 355.653 1512.51 Q358.106 1511.93 360.143 1511.93 Q365.514 1511.93 368.708 1514.62 Q371.903 1517.31 371.903 1521.8 Q371.903 1523.93 371.092 1525.85 Q370.305 1527.74 368.199 1530.34 Q367.62 1531.01 364.518 1534.23 Q361.417 1537.42 355.768 1543.18 Z\" fill=\"#000000\" fill-rule=\"evenodd\" fill-opacity=\"1\" /><path clip-path=\"url(#clip480)\" d=\"M 0 0 M377.204 1512.56 L395.56 1512.56 L395.56 1516.5 L381.486 1516.5 L381.486 1524.97 Q382.504 1524.62 383.523 1524.46 Q384.541 1524.27 385.56 1524.27 Q391.347 1524.27 394.727 1527.44 Q398.106 1530.62 398.106 1536.03 Q398.106 1541.61 394.634 1544.71 Q391.162 1547.79 384.842 1547.79 Q382.666 1547.79 380.398 1547.42 Q378.153 1547.05 375.745 1546.31 L375.745 1541.61 Q377.829 1542.74 380.051 1543.3 Q382.273 1543.86 384.75 1543.86 Q388.754 1543.86 391.092 1541.75 Q393.43 1539.64 393.43 1536.03 Q393.43 1532.42 391.092 1530.31 Q388.754 1528.21 384.75 1528.21 Q382.875 1528.21 381 1528.62 Q379.148 1529.04 377.204 1529.92 L377.204 1512.56 Z\" fill=\"#000000\" fill-rule=\"evenodd\" fill-opacity=\"1\" /><path clip-path=\"url(#clip480)\" d=\"M 0 0 M641.188 1512.56 L659.544 1512.56 L659.544 1516.5 L645.47 1516.5 L645.47 1524.97 Q646.489 1524.62 647.507 1524.46 Q648.526 1524.27 649.544 1524.27 Q655.331 1524.27 658.711 1527.44 Q662.091 1530.62 662.091 1536.03 Q662.091 1541.61 658.618 1544.71 Q655.146 1547.79 648.827 1547.79 Q646.651 1547.79 644.382 1547.42 Q642.137 1547.05 639.73 1546.31 L639.73 1541.61 Q641.813 1542.74 644.035 1543.3 Q646.257 1543.86 648.734 1543.86 Q652.739 1543.86 655.077 1541.75 Q657.415 1539.64 657.415 1536.03 Q657.415 1532.42 655.077 1530.31 Q652.739 1528.21 648.734 1528.21 Q646.859 1528.21 644.984 1528.62 Q643.132 1529.04 641.188 1529.92 L641.188 1512.56 Z\" fill=\"#000000\" fill-rule=\"evenodd\" fill-opacity=\"1\" /><path clip-path=\"url(#clip480)\" d=\"M 0 0 M677.16 1515.64 Q673.549 1515.64 671.72 1519.2 Q669.915 1522.75 669.915 1529.87 Q669.915 1536.98 671.72 1540.55 Q673.549 1544.09 677.16 1544.09 Q680.794 1544.09 682.6 1540.55 Q684.428 1536.98 684.428 1529.87 Q684.428 1522.75 682.6 1519.2 Q680.794 1515.64 677.16 1515.64 M677.16 1511.93 Q682.97 1511.93 686.026 1516.54 Q689.104 1521.12 689.104 1529.87 Q689.104 1538.6 686.026 1543.21 Q682.97 1547.79 677.16 1547.79 Q671.35 1547.79 668.271 1543.21 Q665.216 1538.6 665.216 1529.87 Q665.216 1521.12 668.271 1516.54 Q671.35 1511.93 677.16 1511.93 Z\" fill=\"#000000\" fill-rule=\"evenodd\" fill-opacity=\"1\" /><path clip-path=\"url(#clip480)\" d=\"M 0 0 M930.589 1512.56 L952.811 1512.56 L952.811 1514.55 L940.265 1547.12 L935.38 1547.12 L947.186 1516.5 L930.589 1516.5 L930.589 1512.56 Z\" fill=\"#000000\" fill-rule=\"evenodd\" fill-opacity=\"1\" /><path clip-path=\"url(#clip480)\" d=\"M 0 0 M957.927 1512.56 L976.283 1512.56 L976.283 1516.5 L962.209 1516.5 L962.209 1524.97 Q963.228 1524.62 964.246 1524.46 Q965.265 1524.27 966.283 1524.27 Q972.07 1524.27 975.45 1527.44 Q978.829 1530.62 978.829 1536.03 Q978.829 1541.61 975.357 1544.71 Q971.885 1547.79 965.566 1547.79 Q963.39 1547.79 961.121 1547.42 Q958.876 1547.05 956.468 1546.31 L956.468 1541.61 Q958.552 1542.74 960.774 1543.3 Q962.996 1543.86 965.473 1543.86 Q969.478 1543.86 971.815 1541.75 Q974.153 1539.64 974.153 1536.03 Q974.153 1532.42 971.815 1530.31 Q969.478 1528.21 965.473 1528.21 Q963.598 1528.21 961.723 1528.62 Q959.871 1529.04 957.927 1529.92 L957.927 1512.56 Z\" fill=\"#000000\" fill-rule=\"evenodd\" fill-opacity=\"1\" /><path clip-path=\"url(#clip480)\" d=\"M 0 0 M1208.37 1543.18 L1216.01 1543.18 L1216.01 1516.82 L1207.7 1518.49 L1207.7 1514.23 L1215.96 1512.56 L1220.64 1512.56 L1220.64 1543.18 L1228.28 1543.18 L1228.28 1547.12 L1208.37 1547.12 L1208.37 1543.18 Z\" fill=\"#000000\" fill-rule=\"evenodd\" fill-opacity=\"1\" /><path clip-path=\"url(#clip480)\" d=\"M 0 0 M1243.35 1515.64 Q1239.74 1515.64 1237.91 1519.2 Q1236.1 1522.75 1236.1 1529.87 Q1236.1 1536.98 1237.91 1540.55 Q1239.74 1544.09 1243.35 1544.09 Q1246.98 1544.09 1248.79 1540.55 Q1250.61 1536.98 1250.61 1529.87 Q1250.61 1522.75 1248.79 1519.2 Q1246.98 1515.64 1243.35 1515.64 M1243.35 1511.93 Q1249.16 1511.93 1252.21 1516.54 Q1255.29 1521.12 1255.29 1529.87 Q1255.29 1538.6 1252.21 1543.21 Q1249.16 1547.79 1243.35 1547.79 Q1237.54 1547.79 1234.46 1543.21 Q1231.4 1538.6 1231.4 1529.87 Q1231.4 1521.12 1234.46 1516.54 Q1237.54 1511.93 1243.35 1511.93 Z\" fill=\"#000000\" fill-rule=\"evenodd\" fill-opacity=\"1\" /><path clip-path=\"url(#clip480)\" d=\"M 0 0 M1270.36 1515.64 Q1266.75 1515.64 1264.92 1519.2 Q1263.11 1522.75 1263.11 1529.87 Q1263.11 1536.98 1264.92 1540.55 Q1266.75 1544.09 1270.36 1544.09 Q1273.99 1544.09 1275.8 1540.55 Q1277.63 1536.98 1277.63 1529.87 Q1277.63 1522.75 1275.8 1519.2 Q1273.99 1515.64 1270.36 1515.64 M1270.36 1511.93 Q1276.17 1511.93 1279.23 1516.54 Q1282.3 1521.12 1282.3 1529.87 Q1282.3 1538.6 1279.23 1543.21 Q1276.17 1547.79 1270.36 1547.79 Q1264.55 1547.79 1261.47 1543.21 Q1258.42 1538.6 1258.42 1529.87 Q1258.42 1521.12 1261.47 1516.54 Q1264.55 1511.93 1270.36 1511.93 Z\" fill=\"#000000\" fill-rule=\"evenodd\" fill-opacity=\"1\" /><path clip-path=\"url(#clip480)\" d=\"M 0 0 M1499.96 1543.18 L1507.6 1543.18 L1507.6 1516.82 L1499.29 1518.49 L1499.29 1514.23 L1507.55 1512.56 L1512.23 1512.56 L1512.23 1543.18 L1519.87 1543.18 L1519.87 1547.12 L1499.96 1547.12 L1499.96 1543.18 Z\" fill=\"#000000\" fill-rule=\"evenodd\" fill-opacity=\"1\" /><path clip-path=\"url(#clip480)\" d=\"M 0 0 M1528.96 1543.18 L1545.28 1543.18 L1545.28 1547.12 L1523.34 1547.12 L1523.34 1543.18 Q1526 1540.43 1530.58 1535.8 Q1535.19 1531.15 1536.37 1529.81 Q1538.62 1527.28 1539.49 1525.55 Q1540.4 1523.79 1540.4 1522.1 Q1540.4 1519.34 1538.45 1517.61 Q1536.53 1515.87 1533.43 1515.87 Q1531.23 1515.87 1528.78 1516.63 Q1526.35 1517.4 1523.57 1518.95 L1523.57 1514.23 Q1526.39 1513.09 1528.85 1512.51 Q1531.3 1511.93 1533.34 1511.93 Q1538.71 1511.93 1541.9 1514.62 Q1545.1 1517.31 1545.1 1521.8 Q1545.1 1523.93 1544.29 1525.85 Q1543.5 1527.74 1541.39 1530.34 Q1540.81 1531.01 1537.71 1534.23 Q1534.61 1537.42 1528.96 1543.18 Z\" fill=\"#000000\" fill-rule=\"evenodd\" fill-opacity=\"1\" /><path clip-path=\"url(#clip480)\" d=\"M 0 0 M1550.4 1512.56 L1568.75 1512.56 L1568.75 1516.5 L1554.68 1516.5 L1554.68 1524.97 Q1555.7 1524.62 1556.72 1524.46 Q1557.74 1524.27 1558.75 1524.27 Q1564.54 1524.27 1567.92 1527.44 Q1571.3 1530.62 1571.3 1536.03 Q1571.3 1541.61 1567.83 1544.71 Q1564.36 1547.79 1558.04 1547.79 Q1555.86 1547.79 1553.59 1547.42 Q1551.35 1547.05 1548.94 1546.31 L1548.94 1541.61 Q1551.02 1542.74 1553.24 1543.3 Q1555.47 1543.86 1557.94 1543.86 Q1561.95 1543.86 1564.29 1541.75 Q1566.62 1539.64 1566.62 1536.03 Q1566.62 1532.42 1564.29 1530.31 Q1561.95 1528.21 1557.94 1528.21 Q1556.07 1528.21 1554.19 1528.62 Q1552.34 1529.04 1550.4 1529.92 L1550.4 1512.56 Z\" fill=\"#000000\" fill-rule=\"evenodd\" fill-opacity=\"1\" /><path clip-path=\"url(#clip480)\" d=\"M 0 0 M1789.45 1543.18 L1797.09 1543.18 L1797.09 1516.82 L1788.78 1518.49 L1788.78 1514.23 L1797.04 1512.56 L1801.72 1512.56 L1801.72 1543.18 L1809.36 1543.18 L1809.36 1547.12 L1789.45 1547.12 L1789.45 1543.18 Z\" fill=\"#000000\" fill-rule=\"evenodd\" fill-opacity=\"1\" /><path clip-path=\"url(#clip480)\" d=\"M 0 0 M1814.47 1512.56 L1832.83 1512.56 L1832.83 1516.5 L1818.76 1516.5 L1818.76 1524.97 Q1819.78 1524.62 1820.79 1524.46 Q1821.81 1524.27 1822.83 1524.27 Q1828.62 1524.27 1832 1527.44 Q1835.38 1530.62 1835.38 1536.03 Q1835.38 1541.61 1831.9 1544.71 Q1828.43 1547.79 1822.11 1547.79 Q1819.94 1547.79 1817.67 1547.42 Q1815.42 1547.05 1813.02 1546.31 L1813.02 1541.61 Q1815.1 1542.74 1817.32 1543.3 Q1819.54 1543.86 1822.02 1543.86 Q1826.03 1543.86 1828.36 1541.75 Q1830.7 1539.64 1830.7 1536.03 Q1830.7 1532.42 1828.36 1530.31 Q1826.03 1528.21 1822.02 1528.21 Q1820.15 1528.21 1818.27 1528.62 Q1816.42 1529.04 1814.47 1529.92 L1814.47 1512.56 Z\" fill=\"#000000\" fill-rule=\"evenodd\" fill-opacity=\"1\" /><path clip-path=\"url(#clip480)\" d=\"M 0 0 M1850.45 1515.64 Q1846.84 1515.64 1845.01 1519.2 Q1843.2 1522.75 1843.2 1529.87 Q1843.2 1536.98 1845.01 1540.55 Q1846.84 1544.09 1850.45 1544.09 Q1854.08 1544.09 1855.89 1540.55 Q1857.71 1536.98 1857.71 1529.87 Q1857.71 1522.75 1855.89 1519.2 Q1854.08 1515.64 1850.45 1515.64 M1850.45 1511.93 Q1856.26 1511.93 1859.31 1516.54 Q1862.39 1521.12 1862.39 1529.87 Q1862.39 1538.6 1859.31 1543.21 Q1856.26 1547.79 1850.45 1547.79 Q1844.64 1547.79 1841.56 1543.21 Q1838.5 1538.6 1838.5 1529.87 Q1838.5 1521.12 1841.56 1516.54 Q1844.64 1511.93 1850.45 1511.93 Z\" fill=\"#000000\" fill-rule=\"evenodd\" fill-opacity=\"1\" /><path clip-path=\"url(#clip480)\" d=\"M 0 0 M2080.19 1543.18 L2087.83 1543.18 L2087.83 1516.82 L2079.52 1518.49 L2079.52 1514.23 L2087.79 1512.56 L2092.46 1512.56 L2092.46 1543.18 L2100.1 1543.18 L2100.1 1547.12 L2080.19 1547.12 L2080.19 1543.18 Z\" fill=\"#000000\" fill-rule=\"evenodd\" fill-opacity=\"1\" /><path clip-path=\"url(#clip480)\" d=\"M 0 0 M2103.99 1512.56 L2126.21 1512.56 L2126.21 1514.55 L2113.67 1547.12 L2108.78 1547.12 L2120.59 1516.5 L2103.99 1516.5 L2103.99 1512.56 Z\" fill=\"#000000\" fill-rule=\"evenodd\" fill-opacity=\"1\" /><path clip-path=\"url(#clip480)\" d=\"M 0 0 M2131.33 1512.56 L2149.69 1512.56 L2149.69 1516.5 L2135.61 1516.5 L2135.61 1524.97 Q2136.63 1524.62 2137.65 1524.46 Q2138.67 1524.27 2139.69 1524.27 Q2145.47 1524.27 2148.85 1527.44 Q2152.23 1530.62 2152.23 1536.03 Q2152.23 1541.61 2148.76 1544.71 Q2145.29 1547.79 2138.97 1547.79 Q2136.79 1547.79 2134.52 1547.42 Q2132.28 1547.05 2129.87 1546.31 L2129.87 1541.61 Q2131.95 1542.74 2134.18 1543.3 Q2136.4 1543.86 2138.88 1543.86 Q2142.88 1543.86 2145.22 1541.75 Q2147.56 1539.64 2147.56 1536.03 Q2147.56 1532.42 2145.22 1530.31 Q2142.88 1528.21 2138.88 1528.21 Q2137 1528.21 2135.13 1528.62 Q2133.27 1529.04 2131.33 1529.92 L2131.33 1512.56 Z\" fill=\"#000000\" fill-rule=\"evenodd\" fill-opacity=\"1\" /><polyline clip-path=\"url(#clip482)\" style=\"stroke:#000000; stroke-width:2; stroke-opacity:0.1; fill:none\" points=\"\n",
       "  137.246,1455.21 2352.76,1455.21 \n",
       "  \"/>\n",
       "<polyline clip-path=\"url(#clip482)\" style=\"stroke:#000000; stroke-width:2; stroke-opacity:0.1; fill:none\" points=\"\n",
       "  137.246,1172.53 2352.76,1172.53 \n",
       "  \"/>\n",
       "<polyline clip-path=\"url(#clip482)\" style=\"stroke:#000000; stroke-width:2; stroke-opacity:0.1; fill:none\" points=\"\n",
       "  137.246,889.859 2352.76,889.859 \n",
       "  \"/>\n",
       "<polyline clip-path=\"url(#clip482)\" style=\"stroke:#000000; stroke-width:2; stroke-opacity:0.1; fill:none\" points=\"\n",
       "  137.246,607.185 2352.76,607.185 \n",
       "  \"/>\n",
       "<polyline clip-path=\"url(#clip482)\" style=\"stroke:#000000; stroke-width:2; stroke-opacity:0.1; fill:none\" points=\"\n",
       "  137.246,324.512 2352.76,324.512 \n",
       "  \"/>\n",
       "<polyline clip-path=\"url(#clip480)\" style=\"stroke:#000000; stroke-width:4; stroke-opacity:1; fill:none\" points=\"\n",
       "  137.246,1486.45 137.246,47.2441 \n",
       "  \"/>\n",
       "<polyline clip-path=\"url(#clip480)\" style=\"stroke:#000000; stroke-width:4; stroke-opacity:1; fill:none\" points=\"\n",
       "  137.246,1455.21 163.833,1455.21 \n",
       "  \"/>\n",
       "<polyline clip-path=\"url(#clip480)\" style=\"stroke:#000000; stroke-width:4; stroke-opacity:1; fill:none\" points=\"\n",
       "  137.246,1172.53 163.833,1172.53 \n",
       "  \"/>\n",
       "<polyline clip-path=\"url(#clip480)\" style=\"stroke:#000000; stroke-width:4; stroke-opacity:1; fill:none\" points=\"\n",
       "  137.246,889.859 163.833,889.859 \n",
       "  \"/>\n",
       "<polyline clip-path=\"url(#clip480)\" style=\"stroke:#000000; stroke-width:4; stroke-opacity:1; fill:none\" points=\"\n",
       "  137.246,607.185 163.833,607.185 \n",
       "  \"/>\n",
       "<polyline clip-path=\"url(#clip480)\" style=\"stroke:#000000; stroke-width:4; stroke-opacity:1; fill:none\" points=\"\n",
       "  137.246,324.512 163.833,324.512 \n",
       "  \"/>\n",
       "<path clip-path=\"url(#clip480)\" d=\"M 0 0 M67.1032 1453.85 Q70.4596 1454.57 72.3346 1456.84 Q74.2327 1459.11 74.2327 1462.44 Q74.2327 1467.56 70.7142 1470.36 Q67.1957 1473.16 60.7143 1473.16 Q58.5384 1473.16 56.2236 1472.72 Q53.9319 1472.3 51.4782 1471.44 L51.4782 1466.93 Q53.4227 1468.07 55.7375 1468.64 Q58.0523 1469.22 60.5754 1469.22 Q64.9735 1469.22 67.2652 1467.49 Q69.58 1465.75 69.58 1462.44 Q69.58 1459.38 67.4272 1457.67 Q65.2976 1455.94 61.4782 1455.94 L57.4504 1455.94 L57.4504 1452.09 L61.6634 1452.09 Q65.1124 1452.09 66.9411 1450.73 Q68.7698 1449.34 68.7698 1446.75 Q68.7698 1444.08 66.8717 1442.67 Q64.9967 1441.24 61.4782 1441.24 Q59.5569 1441.24 57.3578 1441.65 Q55.1588 1442.07 52.5199 1442.95 L52.5199 1438.78 Q55.1819 1438.04 57.4967 1437.67 Q59.8347 1437.3 61.8948 1437.3 Q67.2189 1437.3 70.3207 1439.73 Q73.4226 1442.14 73.4226 1446.26 Q73.4226 1449.13 71.7791 1451.12 Q70.1355 1453.09 67.1032 1453.85 Z\" fill=\"#000000\" fill-rule=\"evenodd\" fill-opacity=\"1\" /><path clip-path=\"url(#clip480)\" d=\"M 0 0 M89.3021 1441.01 Q85.691 1441.01 83.8623 1444.57 Q82.0568 1448.11 82.0568 1455.24 Q82.0568 1462.35 83.8623 1465.91 Q85.691 1469.45 89.3021 1469.45 Q92.9363 1469.45 94.7419 1465.91 Q96.5706 1462.35 96.5706 1455.24 Q96.5706 1448.11 94.7419 1444.57 Q92.9363 1441.01 89.3021 1441.01 M89.3021 1437.3 Q95.1123 1437.3 98.1678 1441.91 Q101.246 1446.49 101.246 1455.24 Q101.246 1463.97 98.1678 1468.57 Q95.1123 1473.16 89.3021 1473.16 Q83.492 1473.16 80.4133 1468.57 Q77.3577 1463.97 77.3577 1455.24 Q77.3577 1446.49 80.4133 1441.91 Q83.492 1437.3 89.3021 1437.3 Z\" fill=\"#000000\" fill-rule=\"evenodd\" fill-opacity=\"1\" /><path clip-path=\"url(#clip480)\" d=\"M 0 0 M68.7004 1171.18 Q72.0568 1171.9 73.9318 1174.16 Q75.83 1176.43 75.83 1179.77 Q75.83 1184.88 72.3115 1187.68 Q68.793 1190.48 62.3115 1190.48 Q60.1356 1190.48 57.8208 1190.04 Q55.5291 1189.63 53.0754 1188.77 L53.0754 1184.26 Q55.0199 1185.39 57.3347 1185.97 Q59.6495 1186.55 62.1726 1186.55 Q66.5707 1186.55 68.8624 1184.81 Q71.1772 1183.08 71.1772 1179.77 Q71.1772 1176.71 69.0244 1175 Q66.8948 1173.26 63.0754 1173.26 L59.0476 1173.26 L59.0476 1169.42 L63.2606 1169.42 Q66.7096 1169.42 68.5383 1168.05 Q70.367 1166.66 70.367 1164.07 Q70.367 1161.41 68.4689 1160 Q66.5939 1158.56 63.0754 1158.56 Q61.1541 1158.56 58.955 1158.98 Q56.756 1159.4 54.1171 1160.28 L54.1171 1156.11 Q56.7791 1155.37 59.0939 1155 Q61.4319 1154.63 63.4921 1154.63 Q68.8161 1154.63 71.9179 1157.06 Q75.0198 1159.47 75.0198 1163.59 Q75.0198 1166.46 73.3763 1168.45 Q71.7328 1170.41 68.7004 1171.18 Z\" fill=\"#000000\" fill-rule=\"evenodd\" fill-opacity=\"1\" /><path clip-path=\"url(#clip480)\" d=\"M 0 0 M84.9271 1185.88 L101.246 1185.88 L101.246 1189.81 L79.3022 1189.81 L79.3022 1185.88 Q81.9642 1183.12 86.5475 1178.49 Q91.1539 1173.84 92.3345 1172.5 Q94.5799 1169.98 95.4595 1168.24 Q96.3623 1166.48 96.3623 1164.79 Q96.3623 1162.04 94.4178 1160.3 Q92.4965 1158.56 89.3947 1158.56 Q87.1956 1158.56 84.7419 1159.33 Q82.3114 1160.09 79.5336 1161.64 L79.5336 1156.92 Q82.3577 1155.79 84.8114 1155.21 Q87.2651 1154.63 89.3021 1154.63 Q94.6724 1154.63 97.8669 1157.31 Q101.061 1160 101.061 1164.49 Q101.061 1166.62 100.251 1168.54 Q99.4641 1170.44 97.3576 1173.03 Q96.7789 1173.7 93.6771 1176.92 Q90.5752 1180.11 84.9271 1185.88 Z\" fill=\"#000000\" fill-rule=\"evenodd\" fill-opacity=\"1\" /><path clip-path=\"url(#clip480)\" d=\"M 0 0 M66.617 888.505 Q69.9735 889.223 71.8485 891.491 Q73.7466 893.76 73.7466 897.093 Q73.7466 902.209 70.2281 905.01 Q66.7096 907.81 60.2282 907.81 Q58.0523 907.81 55.7375 907.371 Q53.4458 906.954 50.9921 906.098 L50.9921 901.584 Q52.9366 902.718 55.2514 903.297 Q57.5662 903.875 60.0893 903.875 Q64.4874 903.875 66.7791 902.139 Q69.0939 900.403 69.0939 897.093 Q69.0939 894.037 66.9411 892.324 Q64.8115 890.588 60.9921 890.588 L56.9643 890.588 L56.9643 886.746 L61.1773 886.746 Q64.6263 886.746 66.455 885.38 Q68.2837 883.991 68.2837 881.399 Q68.2837 878.737 66.3856 877.325 Q64.5106 875.889 60.9921 875.889 Q59.0708 875.889 56.8717 876.306 Q54.6727 876.723 52.0338 877.602 L52.0338 873.436 Q54.6958 872.695 57.0106 872.325 Q59.3486 871.954 61.4087 871.954 Q66.7328 871.954 69.8346 874.385 Q72.9365 876.792 72.9365 880.912 Q72.9365 883.783 71.2929 885.774 Q69.6494 887.741 66.617 888.505 Z\" fill=\"#000000\" fill-rule=\"evenodd\" fill-opacity=\"1\" /><path clip-path=\"url(#clip480)\" d=\"M 0 0 M91.6632 876.653 L79.8577 895.102 L91.6632 895.102 L91.6632 876.653 M90.4364 872.579 L96.316 872.579 L96.316 895.102 L101.246 895.102 L101.246 898.991 L96.316 898.991 L96.316 907.139 L91.6632 907.139 L91.6632 898.991 L76.0614 898.991 L76.0614 894.477 L90.4364 872.579 Z\" fill=\"#000000\" fill-rule=\"evenodd\" fill-opacity=\"1\" /><path clip-path=\"url(#clip480)\" d=\"M 0 0 M66.9411 605.831 Q70.2976 606.549 72.1726 608.817 Q74.0707 611.086 74.0707 614.419 Q74.0707 619.535 70.5522 622.336 Q67.0337 625.137 60.5523 625.137 Q58.3763 625.137 56.0615 624.697 Q53.7699 624.28 51.3162 623.424 L51.3162 618.91 Q53.2606 620.044 55.5754 620.623 Q57.8902 621.202 60.4134 621.202 Q64.8115 621.202 67.1032 619.466 Q69.418 617.729 69.418 614.419 Q69.418 611.364 67.2652 609.651 Q65.1356 607.915 61.3161 607.915 L57.2884 607.915 L57.2884 604.072 L61.5013 604.072 Q64.9504 604.072 66.7791 602.706 Q68.6078 601.317 68.6078 598.725 Q68.6078 596.063 66.7096 594.651 Q64.8346 593.216 61.3161 593.216 Q59.3949 593.216 57.1958 593.632 Q54.9967 594.049 52.3579 594.929 L52.3579 590.762 Q55.0199 590.021 57.3347 589.651 Q59.6726 589.281 61.7328 589.281 Q67.0569 589.281 70.1587 591.711 Q73.2605 594.118 73.2605 598.239 Q73.2605 601.109 71.617 603.1 Q69.9735 605.067 66.9411 605.831 Z\" fill=\"#000000\" fill-rule=\"evenodd\" fill-opacity=\"1\" /><path clip-path=\"url(#clip480)\" d=\"M 0 0 M89.7188 605.322 Q86.5706 605.322 84.7188 607.475 Q82.8901 609.628 82.8901 613.378 Q82.8901 617.104 84.7188 619.28 Q86.5706 621.433 89.7188 621.433 Q92.8669 621.433 94.6956 619.28 Q96.5474 617.104 96.5474 613.378 Q96.5474 609.628 94.6956 607.475 Q92.8669 605.322 89.7188 605.322 M99.0011 590.669 L99.0011 594.929 Q97.2419 594.095 95.4363 593.655 Q93.6539 593.216 91.8947 593.216 Q87.2651 593.216 84.8114 596.341 Q82.3808 599.466 82.0336 605.785 Q83.3994 603.771 85.4595 602.706 Q87.5197 601.618 89.9965 601.618 Q95.2049 601.618 98.2141 604.79 Q101.246 607.938 101.246 613.378 Q101.246 618.702 98.0984 621.919 Q94.9502 625.137 89.7188 625.137 Q83.7234 625.137 80.5522 620.553 Q77.3809 615.947 77.3809 607.22 Q77.3809 599.026 81.2697 594.165 Q85.1586 589.281 91.7095 589.281 Q93.4688 589.281 95.2511 589.628 Q97.0567 589.975 99.0011 590.669 Z\" fill=\"#000000\" fill-rule=\"evenodd\" fill-opacity=\"1\" /><path clip-path=\"url(#clip480)\" d=\"M 0 0 M67.1957 323.158 Q70.5522 323.875 72.4272 326.144 Q74.3253 328.412 74.3253 331.746 Q74.3253 336.861 70.8068 339.662 Q67.2883 342.463 60.8069 342.463 Q58.631 342.463 56.3162 342.023 Q54.0245 341.607 51.5708 340.75 L51.5708 336.236 Q53.5153 337.371 55.8301 337.949 Q58.1449 338.528 60.668 338.528 Q65.0661 338.528 67.3578 336.792 Q69.6726 335.056 69.6726 331.746 Q69.6726 328.69 67.5198 326.977 Q65.3902 325.241 61.5708 325.241 L57.543 325.241 L57.543 321.398 L61.756 321.398 Q65.205 321.398 67.0337 320.033 Q68.8624 318.644 68.8624 316.051 Q68.8624 313.389 66.9643 311.977 Q65.0893 310.542 61.5708 310.542 Q59.6495 310.542 57.4504 310.959 Q55.2514 311.375 52.6125 312.255 L52.6125 308.088 Q55.2745 307.348 57.5893 306.977 Q59.9273 306.607 61.9874 306.607 Q67.3115 306.607 70.4133 309.037 Q73.5152 311.445 73.5152 315.565 Q73.5152 318.435 71.8716 320.426 Q70.2281 322.394 67.1957 323.158 Z\" fill=\"#000000\" fill-rule=\"evenodd\" fill-opacity=\"1\" /><path clip-path=\"url(#clip480)\" d=\"M 0 0 M89.3947 325.38 Q86.0614 325.38 84.1401 327.162 Q82.242 328.945 82.242 332.07 Q82.242 335.195 84.1401 336.977 Q86.0614 338.759 89.3947 338.759 Q92.728 338.759 94.6493 336.977 Q96.5706 335.171 96.5706 332.07 Q96.5706 328.945 94.6493 327.162 Q92.7512 325.38 89.3947 325.38 M84.7188 323.389 Q81.7096 322.648 80.0197 320.588 Q78.3531 318.528 78.3531 315.565 Q78.3531 311.422 81.2929 309.014 Q84.2558 306.607 89.3947 306.607 Q94.5567 306.607 97.4965 309.014 Q100.436 311.422 100.436 315.565 Q100.436 318.528 98.7465 320.588 Q97.0798 322.648 94.0937 323.389 Q97.4734 324.176 99.3483 326.468 Q101.246 328.759 101.246 332.07 Q101.246 337.093 98.1678 339.778 Q95.1123 342.463 89.3947 342.463 Q83.6771 342.463 80.5984 339.778 Q77.5429 337.093 77.5429 332.07 Q77.5429 328.759 79.441 326.468 Q81.3392 324.176 84.7188 323.389 M83.0058 316.005 Q83.0058 318.69 84.6725 320.195 Q86.3623 321.699 89.3947 321.699 Q92.4039 321.699 94.0937 320.195 Q95.8067 318.69 95.8067 316.005 Q95.8067 313.32 94.0937 311.815 Q92.4039 310.311 89.3947 310.311 Q86.3623 310.311 84.6725 311.815 Q83.0058 313.32 83.0058 316.005 Z\" fill=\"#000000\" fill-rule=\"evenodd\" fill-opacity=\"1\" /><polyline clip-path=\"url(#clip482)\" style=\"stroke:#009af9; stroke-width:4; stroke-opacity:1; fill:none\" points=\"\n",
       "  199.95,398.791 316.066,139.132 432.183,116.462 548.3,87.9763 664.417,136.349 780.534,223.635 896.651,307.743 1012.77,401.147 1128.88,487.313 1245,568.635 \n",
       "  1361.12,646.049 1477.23,759.829 1593.35,880.716 1709.47,946.817 1825.59,1039.6 1941.7,1153.74 2057.82,1233.83 2173.94,1400.85 2290.05,1445.72 \n",
       "  \"/>\n",
       "<path clip-path=\"url(#clip480)\" d=\"\n",
       "M1981.72 216.178 L2278.91 216.178 L2278.91 95.2176 L1981.72 95.2176  Z\n",
       "  \" fill=\"#ffffff\" fill-rule=\"evenodd\" fill-opacity=\"1\"/>\n",
       "<polyline clip-path=\"url(#clip480)\" style=\"stroke:#000000; stroke-width:4; stroke-opacity:1; fill:none\" points=\"\n",
       "  1981.72,216.178 2278.91,216.178 2278.91,95.2176 1981.72,95.2176 1981.72,216.178 \n",
       "  \"/>\n",
       "<polyline clip-path=\"url(#clip480)\" style=\"stroke:#009af9; stroke-width:4; stroke-opacity:1; fill:none\" points=\"\n",
       "  2006.34,155.698 2154.04,155.698 \n",
       "  \"/>\n",
       "<path clip-path=\"url(#clip480)\" d=\"M 0 0 M2192.5 175.385 Q2190.69 180.015 2188.98 181.427 Q2187.26 182.839 2184.39 182.839 L2180.99 182.839 L2180.99 179.274 L2183.49 179.274 Q2185.25 179.274 2186.22 178.44 Q2187.2 177.607 2188.38 174.505 L2189.14 172.561 L2178.65 147.052 L2183.17 147.052 L2191.27 167.329 L2199.37 147.052 L2203.89 147.052 L2192.5 175.385 Z\" fill=\"#000000\" fill-rule=\"evenodd\" fill-opacity=\"1\" /><path clip-path=\"url(#clip480)\" d=\"M 0 0 M2209.76 169.042 L2217.4 169.042 L2217.4 142.677 L2209.09 144.343 L2209.09 140.084 L2217.36 138.418 L2222.03 138.418 L2222.03 169.042 L2229.67 169.042 L2229.67 172.978 L2209.76 172.978 L2209.76 169.042 Z\" fill=\"#000000\" fill-rule=\"evenodd\" fill-opacity=\"1\" /></svg>\n"
      ]
     },
     "execution_count": 186,
     "metadata": {},
     "output_type": "execute_result"
    }
   ],
   "source": [
    "error_wrt_s(A_rd, 10, 200, 10)"
   ]
  },
  {
   "cell_type": "markdown",
   "metadata": {},
   "source": [
    "Using a cosine basis do not seem to improve the results compared to random"
   ]
  },
  {
   "cell_type": "code",
   "execution_count": null,
   "metadata": {},
   "outputs": [],
   "source": []
  }
 ],
 "metadata": {
  "kernelspec": {
   "display_name": "Julia 1.5.3",
   "language": "julia",
   "name": "julia-1.5"
  },
  "language_info": {
   "file_extension": ".jl",
   "mimetype": "application/julia",
   "name": "julia",
   "version": "1.5.3"
  }
 },
 "nbformat": 4,
 "nbformat_minor": 4
}
